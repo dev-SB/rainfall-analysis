{
 "cells": [
  {
   "cell_type": "code",
   "execution_count": 2,
   "metadata": {
    "ExecuteTime": {
     "end_time": "2020-03-30T08:07:40.633690Z",
     "start_time": "2020-03-30T08:07:40.440977Z"
    }
   },
   "outputs": [],
   "source": [
    "from ipywidgets import widgets, Layout\n",
    "import os\n",
    "from yellowbrick.regressor import CooksDistance\n",
    "import warnings\n",
    "from plotly.subplots import make_subplots\n",
    "import datetime\n",
    "import statsmodels.api as sm\n",
    "import numpy as np\n",
    "import pandas as pd\n",
    "import plotly.graph_objects as go\n",
    "import plotly.io as pio\n",
    "import plotly.express as px\n",
    "# renderer for jupyter notebook\n",
    "pio.renderers.default = 'notebook'\n",
    "# renderer for vs code\n",
    "# pio.renderers.default='vscode'\n",
    "# renderer for colab\n",
    "# pio.renderers.default='colab'\n",
    "pio.templates.default = \"plotly_white\"\n",
    "warnings.simplefilter(action='ignore')"
   ]
  },
  {
   "cell_type": "code",
   "execution_count": 3,
   "metadata": {
    "ExecuteTime": {
     "end_time": "2020-03-30T08:07:42.087408Z",
     "start_time": "2020-03-30T08:07:42.074426Z"
    }
   },
   "outputs": [],
   "source": [
    "base_path = '../viz/'"
   ]
  },
  {
   "cell_type": "code",
   "execution_count": 4,
   "metadata": {
    "ExecuteTime": {
     "end_time": "2020-03-30T08:07:43.160716Z",
     "start_time": "2020-03-30T08:07:42.958156Z"
    }
   },
   "outputs": [],
   "source": [
    "rain = pd.read_csv(r'../data/processedfiles/rainfall-by-region.csv')\n",
    "regions = list(rain.columns.values)[5:]\n",
    "years = list(rain['year'].unique())\n",
    "monsoon_list = [i for i in range(150, 281)]\n",
    "rain_monsoon = rain[rain['day-number'].isin(monsoon_list)]"
   ]
  },
  {
   "cell_type": "code",
   "execution_count": 5,
   "metadata": {
    "ExecuteTime": {
     "end_time": "2020-03-30T08:07:44.381535Z",
     "start_time": "2020-03-30T08:07:44.372606Z"
    }
   },
   "outputs": [],
   "source": [
    "rain = rain.set_index('date', drop=False)"
   ]
  },
  {
   "cell_type": "code",
   "execution_count": 6,
   "metadata": {
    "ExecuteTime": {
     "end_time": "2020-03-30T08:07:45.771648Z",
     "start_time": "2020-03-30T08:07:45.555429Z"
    }
   },
   "outputs": [],
   "source": [
    "fig = go.Figure()"
   ]
  },
  {
   "cell_type": "code",
   "execution_count": 7,
   "metadata": {
    "ExecuteTime": {
     "end_time": "2020-03-30T08:08:01.186217Z",
     "start_time": "2020-03-30T08:08:01.097299Z"
    }
   },
   "outputs": [],
   "source": [
    "def initial_plot(fig, x_axis, region, df, iterate_list, title, x_axis_title, path, add_path=''):\n",
    "    #     list_type=year\n",
    "    path = create_dir(path, region)\n",
    "    if len(iterate_list) == 0:\n",
    "        trace = ''\n",
    "        trace = go.Scatter(x=df[x_axis], y=df[region], name=region, line=dict(\n",
    "            color='black', width=2, dash='dot'))\n",
    "        layout = go.Layout(title=dict(text=title+'-'+region), xaxis=dict(title=x_axis_title, rangeslider=dict(\n",
    "            visible=False)), yaxis=dict(title='Rainfall (mm)'), legend=dict(orientation=\"h\"))\n",
    "        fig.add_trace(trace)\n",
    "        fig.update_layout(layout)\n",
    "        fig.write_image(path+add_path+'.jpeg')\n",
    "        fig.data = []\n",
    "        fig.layout = {}\n",
    "    else:\n",
    "        df = df[[region, 'year', 'month', 'day-of-month', 'day-number']]\n",
    "        for i in iterate_list:\n",
    "            trace = ''\n",
    "            temp = df[df['year'] == i]\n",
    "            trace = go.Scatter(x=temp[x_axis], y=temp[region], name=str(\n",
    "                i), line=dict(color='black', width=2, dash='dot'))\n",
    "            layout = go.Layout(title=dict(text=title+'-'+region+'-'+str(i)), xaxis=dict(title=x_axis_title, rangeslider=dict(visible=False)), yaxis=dict(title='Rainfall (mm)'), legend=dict(\n",
    "                orientation=\"h\"))\n",
    "            fig.add_trace(trace)\n",
    "            fig.update_layout(layout)\n",
    "            if add_path=='':\n",
    "                fig.write_image(path+str(i)+'.jpeg')\n",
    "            else:\n",
    "                fig.write_image(path+add_path+'-'+str(i)+'.jpeg')\n",
    "            fig.data = []\n",
    "            fig.layout = {}"
   ]
  },
  {
   "cell_type": "code",
   "execution_count": 8,
   "metadata": {
    "ExecuteTime": {
     "end_time": "2020-03-30T08:08:02.370676Z",
     "start_time": "2020-03-30T08:08:02.367656Z"
    }
   },
   "outputs": [],
   "source": [
    "def create_dir(base, new_dir):\n",
    "    path = base+new_dir+'/'\n",
    "    if not os.path.exists(path):\n",
    "        os.mkdir(path)\n",
    "    return path"
   ]
  },
  {
   "cell_type": "code",
   "execution_count": null,
   "metadata": {
    "ExecuteTime": {
     "start_time": "2020-03-30T08:08:04.134Z"
    }
   },
   "outputs": [],
   "source": [
    "path = create_dir(\n",
    "    base_path, 'rain-observed-in-all-classification-daily-basis-monsoon')\n",
    "for i in regions:\n",
    "    initial_plot(fig, 'day-number', i, rain_monsoon, years,\n",
    "                 'Rain observed on daily basis (monsoon time)', 'Day of year', path)"
   ]
  },
  {
   "cell_type": "code",
   "execution_count": null,
   "metadata": {
    "ExecuteTime": {
     "start_time": "2020-03-30T08:04:25.426Z"
    }
   },
   "outputs": [],
   "source": [
    "mean_monthly_year = rain.groupby(['year', 'month'], as_index=False).mean()\n",
    "median_monthly_year = rain.groupby(['year', 'month'], as_index=False).median()"
   ]
  },
  {
   "cell_type": "code",
   "execution_count": null,
   "metadata": {
    "ExecuteTime": {
     "start_time": "2020-03-30T08:04:25.429Z"
    },
    "code_folding": []
   },
   "outputs": [],
   "source": [
    "path = create_dir(\n",
    "    base_path, 'rain-observed-in-all-classification-monthly-basis-mean-median')\n",
    "for i in regions:\n",
    "    initial_plot(fig, 'month', i, mean_monthly_year, years,\n",
    "                 'Mean rain observed on monthly basis', 'Month', path, 'mean')\n",
    "    initial_plot(fig, 'month', i, median_monthly_year, years,\n",
    "                 'Median rain observed on monthly basis', 'Month', path, 'median')"
   ]
  },
  {
   "cell_type": "code",
   "execution_count": null,
   "metadata": {
    "ExecuteTime": {
     "start_time": "2020-03-30T08:04:25.432Z"
    }
   },
   "outputs": [],
   "source": [
    "mean_yearly = rain.groupby(['year'], as_index=False).mean()\n",
    "median_yearly = rain.groupby(['year'], as_index=False).median()"
   ]
  },
  {
   "cell_type": "code",
   "execution_count": null,
   "metadata": {
    "ExecuteTime": {
     "start_time": "2020-03-30T08:04:25.434Z"
    }
   },
   "outputs": [],
   "source": [
    "path = create_dir(\n",
    "    base_path, 'rain-observed-in-all-classification-yearly-basis-mean-median')\n",
    "for i in regions:\n",
    "    initial_plot(fig, 'year', i, mean_yearly, [],\n",
    "                 'Mean rain observed on yearly basis', 'Year', path, 'mean')\n",
    "    initial_plot(fig, 'year', i, median_yearly, [],\n",
    "                 'Median rain observed on yearly basis', 'Year', path, 'median')"
   ]
  },
  {
   "cell_type": "code",
   "execution_count": null,
   "metadata": {
    "ExecuteTime": {
     "start_time": "2020-03-30T08:04:25.437Z"
    }
   },
   "outputs": [],
   "source": [
    "mean_daily = rain.groupby(['day-number'], as_index=False).mean()\n",
    "median_daily = rain.groupby(['day-number'], as_index=False).median()"
   ]
  },
  {
   "cell_type": "code",
   "execution_count": null,
   "metadata": {
    "ExecuteTime": {
     "start_time": "2020-03-30T08:04:25.439Z"
    }
   },
   "outputs": [],
   "source": [
    "path = create_dir(\n",
    "    base_path, 'rainfall-day-wise-distribution-in-all-classification-full-year-mean-median')\n",
    "for i in regions:\n",
    "    initial_plot(fig, 'day-number', i, mean_daily, [],\n",
    "                 'Mean distribution of Rainfall', 'Day of year', path, 'mean')\n",
    "    initial_plot(fig, 'day-number', i, median_daily, [],\n",
    "                 'Median distribution of Rainfall', 'Day of year', path, 'median')"
   ]
  },
  {
   "cell_type": "code",
   "execution_count": null,
   "metadata": {
    "ExecuteTime": {
     "start_time": "2020-03-30T08:04:25.441Z"
    }
   },
   "outputs": [],
   "source": [
    "mean_daily_monsoon = rain_monsoon.groupby(\n",
    "    ['day-number'], as_index=False).mean()\n",
    "median_daily_monsoon = rain_monsoon.groupby(\n",
    "    ['day-number'], as_index=False).median()"
   ]
  },
  {
   "cell_type": "code",
   "execution_count": null,
   "metadata": {
    "ExecuteTime": {
     "start_time": "2020-03-30T08:04:25.443Z"
    }
   },
   "outputs": [],
   "source": [
    "path = create_dir(\n",
    "    base_path, 'rainfall-day-wise-distribution-in-all-classification-monsoon-time-mean-and-median')\n",
    "for i in regions:\n",
    "    initial_plot(fig, 'day-number', i, mean_daily_monsoon, [],\n",
    "                 'Mean distribution of Rainfall (monsoon time)', 'Day of year', path, 'mean')\n",
    "    initial_plot(fig, 'day-number', i, median_daily_monsoon, [],\n",
    "                 'Median distribution of Rainfall (monsoon time)', 'Day of year', path, 'median')"
   ]
  },
  {
   "cell_type": "code",
   "execution_count": null,
   "metadata": {
    "ExecuteTime": {
     "start_time": "2020-03-30T08:04:25.446Z"
    }
   },
   "outputs": [],
   "source": [
    "dict_rain_regions = {}\n",
    "dict_rain_monsoon_regions = {}\n",
    "\n",
    "dict_rain_regions_yearly = {}\n",
    "dict_rain_regions_monthly = {}\n",
    "dict_rain_regions_year_monthly = {}\n",
    "\n",
    "dict_rain_monsoon_regions_yearly = {}\n",
    "dict_rain_monsoon_regions_monthly = {}\n",
    "dict_rain_monsoon_regions_year_monthly = {}\n",
    "\n",
    "for i in regions:\n",
    "    dict_rain_regions[i] = rain[['year', 'day-number', 'date', 'month',\n",
    "                                 'day-of-month', i]].dropna(how='any', axis=0).reset_index(drop=True)\n",
    "\n",
    "    dict_rain_monsoon_regions[i] = rain_monsoon[['year', 'day-number',\n",
    "                                                 'date', 'month', 'day-of-month', i]].dropna(how='any', axis=0).reset_index(drop=True)\n",
    "\n",
    "    dict_rain_regions_yearly[i] = dict_rain_regions[i].groupby(\n",
    "        'year', as_index=False)[i].sum()\n",
    "    dict_rain_regions_monthly[i] = dict_rain_regions[i].groupby(\n",
    "        'month', as_index=False)[i].sum()\n",
    "    dict_rain_regions_year_monthly[i] = dict_rain_regions[i].groupby(\n",
    "        ['year', 'month'], as_index=False)[i].sum()\n",
    "    dict_rain_regions_year_monthly[i]['year'] = dict_rain_regions_year_monthly[i]['year'].astype(\n",
    "        str)\n",
    "    dict_rain_regions_year_monthly[i]['month'] = dict_rain_regions_year_monthly[i]['month'].astype(\n",
    "        str)\n",
    "    dict_rain_regions_year_monthly[i]['year'+'-'+'month'] = dict_rain_regions_year_monthly[i]['year'] + \\\n",
    "        '-'+dict_rain_regions_year_monthly[i]['month']\n",
    "\n",
    "    dict_rain_monsoon_regions_yearly[i] = dict_rain_monsoon_regions[i].groupby(\n",
    "        'year', as_index=False)[i].sum()\n",
    "    dict_rain_monsoon_regions_monthly[i] = dict_rain_monsoon_regions[i].groupby(\n",
    "        'month', as_index=False)[i].sum()\n",
    "    dict_rain_monsoon_regions_year_monthly[i] = dict_rain_monsoon_regions[i].groupby(\n",
    "        ['year', 'month'], as_index=False)[i].sum()\n",
    "    dict_rain_monsoon_regions_year_monthly[i]['year'] = dict_rain_monsoon_regions_year_monthly[i]['year'].astype(\n",
    "        str)\n",
    "    dict_rain_monsoon_regions_year_monthly[i]['month'] = dict_rain_monsoon_regions_year_monthly[i]['month'].astype(\n",
    "        str)\n",
    "    dict_rain_monsoon_regions_year_monthly[i]['year'+'-'+'month'] = dict_rain_monsoon_regions_year_monthly[i]['year'] + \\\n",
    "        '-'+dict_rain_monsoon_regions_year_monthly[i]['month']"
   ]
  },
  {
   "cell_type": "code",
   "execution_count": null,
   "metadata": {
    "ExecuteTime": {
     "start_time": "2020-03-30T08:04:25.449Z"
    }
   },
   "outputs": [],
   "source": [
    "def plot_box_dot(fig, dict_df, x_axis, title1, title2, path):\n",
    "    for i in regions:\n",
    "        file = create_dir(path, i)\n",
    "        fig.add_trace(go.Box(y=dict_df[i][i], name=i))\n",
    "        fig.update_layout(title_text=title1,\n",
    "                          xaxis_title='Regions', yaxis_title='Rainfall (mm)', showlegend=False)\n",
    "        fig.write_image(file+x_axis+'-box.jpeg')\n",
    "        fig.data = []\n",
    "        fig.layout = {}\n",
    "        fig.add_trace(go.Scatter(x=dict_df[i][x_axis], y=dict_df[i][i],\n",
    "                                 mode='markers', name=i, line=dict(color='black', width=2)))\n",
    "\n",
    "        fig.update_layout(title_text=title2,\n",
    "                          xaxis_title=str(x_axis), yaxis_title='Rainfall (mm)', legend_orientation='h')\n",
    "\n",
    "        fig.write_image(file+x_axis+'-dot.jpeg')\n",
    "        fig.data = []\n",
    "        fig.layout = {}"
   ]
  },
  {
   "cell_type": "code",
   "execution_count": null,
   "metadata": {
    "ExecuteTime": {
     "start_time": "2020-03-30T08:04:25.451Z"
    }
   },
   "outputs": [],
   "source": [
    "path = create_dir(base_path, 'box-dot-plot')\n",
    "plot_box_dot(fig, dict_rain_regions_yearly, 'year', 'Rainfall distribution of all the regions (yearly)',\n",
    "             'Year wise rainfall distribution of all the regions', path)\n",
    "plot_box_dot(fig, dict_rain_regions_monthly, 'month', 'Rainfall distribution of all the regions (cumulative months)',\n",
    "             'Year wise rainfall distribution of all the regions', path)\n",
    "plot_box_dot(fig, dict_rain_regions_year_monthly, 'year-month', 'Rainfall distribution of all the regions (monthly)',\n",
    "             'Year wise rainfall distribution of all the regions', path)\n",
    "\n",
    "plot_box_dot(fig, dict_rain_monsoon_regions_yearly, 'year', 'Rainfall distribution of all the regions (monsoon)(yearly)',\n",
    "             'Month wise rainfall distribution of all the regions (monsoon)', path)\n",
    "plot_box_dot(fig, dict_rain_monsoon_regions_monthly, 'month', 'Rainfall distribution of all the regions (monsoon) (cumulative months)',\n",
    "             'Cumulative month wise rainfall distribution of all the regions (monsoon)', path)\n",
    "plot_box_dot(fig, dict_rain_monsoon_regions_year_monthly, 'year-month', 'Rainfall distribution of all the regions (monsoon) (monthly)',\n",
    "             'Month wise rainfall distribution of all the regions (monsoon)', path)"
   ]
  },
  {
   "cell_type": "code",
   "execution_count": null,
   "metadata": {
    "ExecuteTime": {
     "start_time": "2020-03-30T08:04:25.454Z"
    }
   },
   "outputs": [],
   "source": [
    "def plot_cooks_distance(vis, dict_df, title, path, monsoon=''):\n",
    "    for i in regions:\n",
    "        file = create_dir(path, i)\n",
    "        vis.fit(dict_df[i].index.to_numpy().reshape(-1, 1), dict_df[i][i])\n",
    "        if monsoon == '':\n",
    "            vis.show().get_figure().savefig(file+title+'.jpeg', dpi=200, format='jpeg',\n",
    "                                            transparent=True, facecolor='#ffffff', edgecolor='#ffffff')\n",
    "        else:\n",
    "            vis.show().get_figure().savefig(file+monsoon+'-'+title+'.jpeg', dpi=200,\n",
    "                                            format='jpeg', transparent=True, facecolor='#ffffff', edgecolor='#ffffff')"
   ]
  },
  {
   "cell_type": "code",
   "execution_count": null,
   "metadata": {
    "ExecuteTime": {
     "start_time": "2020-03-30T08:04:25.458Z"
    }
   },
   "outputs": [],
   "source": [
    "path = create_dir(base_path, 'cooks-distance')\n",
    "vis = CooksDistance()\n",
    "plot_cooks_distance(vis, dict_rain_regions_yearly, 'yearly', path)\n",
    "plot_cooks_distance(vis, dict_rain_regions_monthly, 'cumulative-months', path)\n",
    "plot_cooks_distance(vis, dict_rain_regions_year_monthly, 'monthly', path)\n",
    "\n",
    "plot_cooks_distance(vis, dict_rain_monsoon_regions_yearly,\n",
    "                    'yearly', path, 'monsoon')\n",
    "plot_cooks_distance(vis, dict_rain_monsoon_regions_monthly,\n",
    "                    'cumulative-months', path, 'monsoon')\n",
    "plot_cooks_distance(\n",
    "    vis, dict_rain_monsoon_regions_year_monthly, 'monthly', path, 'monsoon')"
   ]
  },
  {
   "cell_type": "code",
   "execution_count": null,
   "metadata": {},
   "outputs": [],
   "source": []
  }
 ],
 "metadata": {
  "kernelspec": {
   "display_name": "Python 3",
   "language": "python",
   "name": "python3"
  },
  "language_info": {
   "codemirror_mode": {
    "name": "ipython",
    "version": 3
   },
   "file_extension": ".py",
   "mimetype": "text/x-python",
   "name": "python",
   "nbconvert_exporter": "python",
   "pygments_lexer": "ipython3",
   "version": "3.6.10"
  },
  "varInspector": {
   "cols": {
    "lenName": 16,
    "lenType": 16,
    "lenVar": 40
   },
   "kernels_config": {
    "python": {
     "delete_cmd_postfix": "",
     "delete_cmd_prefix": "del ",
     "library": "var_list.py",
     "varRefreshCmd": "print(var_dic_list())"
    },
    "r": {
     "delete_cmd_postfix": ") ",
     "delete_cmd_prefix": "rm(",
     "library": "var_list.r",
     "varRefreshCmd": "cat(var_dic_list()) "
    }
   },
   "types_to_exclude": [
    "module",
    "function",
    "builtin_function_or_method",
    "instance",
    "_Feature"
   ],
   "window_display": false
  }
 },
 "nbformat": 4,
 "nbformat_minor": 4
}
