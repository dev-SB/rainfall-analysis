{
 "cells": [
  {
   "cell_type": "code",
   "execution_count": 1,
   "metadata": {
    "ExecuteTime": {
     "end_time": "2020-03-16T14:17:03.412243Z",
     "start_time": "2020-03-16T14:17:03.401992Z"
    }
   },
   "outputs": [],
   "source": [
    "import pandas as pd\n",
    "import numpy as np"
   ]
  },
  {
   "cell_type": "code",
   "execution_count": 2,
   "metadata": {
    "ExecuteTime": {
     "end_time": "2020-03-16T14:17:04.313412Z",
     "start_time": "2020-03-16T14:17:03.597541Z"
    }
   },
   "outputs": [],
   "source": [
    "rainfall=pd.read_csv(r'../data/processedfiles/rainfall-data-final-sub.csv')\n",
    "station_details=pd.read_csv(r'../data/processedfiles/station-details-sub.csv')"
   ]
  },
  {
   "cell_type": "code",
   "execution_count": 3,
   "metadata": {
    "ExecuteTime": {
     "end_time": "2020-03-16T14:17:04.608072Z",
     "start_time": "2020-03-16T14:17:04.399757Z"
    }
   },
   "outputs": [],
   "source": [
    "rainfall=rainfall.replace(-1,np.NaN)"
   ]
  },
  {
   "cell_type": "code",
   "execution_count": 4,
   "metadata": {
    "ExecuteTime": {
     "end_time": "2020-03-16T14:17:04.686929Z",
     "start_time": "2020-03-16T14:17:04.674068Z"
    }
   },
   "outputs": [],
   "source": [
    "def get_stations(class_type,station_details):\n",
    "    regions=list(station_details[class_type].unique())\n",
    "    temp={i:[] for i in regions}\n",
    "    for i in regions:\n",
    "        temp[i]=list(station_details[station_details[class_type]==i]['station-col-name'].values)\n",
    "    final={}\n",
    "    for i in temp.keys():\n",
    "        final[i]=[]\n",
    "        for j in temp[i]:\n",
    "            final[i].append(rainfall.loc[:,j].values)\n",
    "    mean={}\n",
    "    for i in final.keys():\n",
    "        mean[i]=list(np.around(np.nanmean(final[i],axis=0),decimals=2))\n",
    "    mean_df=rainfall[['year','day-number','date']]\n",
    "    return pd.concat([mean_df,pd.DataFrame(mean)],axis=1)"
   ]
  },
  {
   "cell_type": "code",
   "execution_count": 5,
   "metadata": {
    "ExecuteTime": {
     "end_time": "2020-03-16T14:17:05.475167Z",
     "start_time": "2020-03-16T14:17:04.740879Z"
    }
   },
   "outputs": [
    {
     "name": "stderr",
     "output_type": "stream",
     "text": [
      "/home/sb/anaconda3/lib/python3.6/site-packages/ipykernel_launcher.py:13: RuntimeWarning: Mean of empty slice\n",
      "  del sys.path[0]\n"
     ]
    }
   ],
   "source": [
    "df_rain_climatic_regions=get_stations('climatic-region',station_details)\n",
    "df_rain_koe_regions=get_stations('koeppen-climatic-region',station_details)\n",
    "df_rain_tho_regions=get_stations('thornthwaite-climatic-region',station_details)\n",
    "df_rain_districts=get_stations('district',station_details)"
   ]
  },
  {
   "cell_type": "code",
   "execution_count": 6,
   "metadata": {
    "ExecuteTime": {
     "end_time": "2020-03-16T14:17:06.592699Z",
     "start_time": "2020-03-16T14:17:05.583293Z"
    }
   },
   "outputs": [],
   "source": [
    "df_rain_climatic_regions.to_csv(r'../data/processedfiles/rainfall-climatic-regions.csv',index=False)\n",
    "df_rain_koe_regions.to_csv(r'../data/processedfiles/rainfall-koe-regions.csv',index=False)\n",
    "df_rain_tho_regions.to_csv(r'../data/processedfiles/rainfall-tho-regions.csv',index=False)\n",
    "df_rain_districts.to_csv(r'../data/processedfiles/rainfall-districts.csv',index=False)"
   ]
  },
  {
   "cell_type": "code",
   "execution_count": null,
   "metadata": {},
   "outputs": [],
   "source": []
  }
 ],
 "metadata": {
  "kernelspec": {
   "display_name": "Python 3",
   "language": "python",
   "name": "python3"
  },
  "language_info": {
   "codemirror_mode": {
    "name": "ipython",
    "version": 3
   },
   "file_extension": ".py",
   "mimetype": "text/x-python",
   "name": "python",
   "nbconvert_exporter": "python",
   "pygments_lexer": "ipython3",
   "version": "3.6.10"
  },
  "varInspector": {
   "cols": {
    "lenName": 16,
    "lenType": 16,
    "lenVar": 40
   },
   "kernels_config": {
    "python": {
     "delete_cmd_postfix": "",
     "delete_cmd_prefix": "del ",
     "library": "var_list.py",
     "varRefreshCmd": "print(var_dic_list())"
    },
    "r": {
     "delete_cmd_postfix": ") ",
     "delete_cmd_prefix": "rm(",
     "library": "var_list.r",
     "varRefreshCmd": "cat(var_dic_list()) "
    }
   },
   "types_to_exclude": [
    "module",
    "function",
    "builtin_function_or_method",
    "instance",
    "_Feature"
   ],
   "window_display": false
  }
 },
 "nbformat": 4,
 "nbformat_minor": 4
}
