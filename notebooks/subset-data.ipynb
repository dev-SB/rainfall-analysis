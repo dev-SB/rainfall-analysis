{
 "cells": [
  {
   "cell_type": "code",
   "execution_count": 1,
   "metadata": {
    "ExecuteTime": {
     "end_time": "2020-03-16T14:16:35.472216Z",
     "start_time": "2020-03-16T14:16:35.469191Z"
    }
   },
   "outputs": [],
   "source": [
    "import pandas as pd\n"
   ]
  },
  {
   "cell_type": "code",
   "execution_count": 105,
   "metadata": {
    "ExecuteTime": {
     "end_time": "2020-03-16T09:28:38.895522Z",
     "start_time": "2020-03-16T09:28:38.651100Z"
    },
    "deletable": false,
    "editable": false,
    "run_control": {
     "frozen": true
    }
   },
   "outputs": [],
   "source": [
    "temp=pd.read_excel(r'../data/processedfiles/Rain Gauge Stations Numbering.xlsx',sheet_name='Sheet4')\n",
    "temp=temp.iloc[3:,:]\n",
    "del temp['Unnamed: 0']\n",
    "temp.columns=['station-name','district','climatic-region','koeppen-climatic-region','thornthwaite-climatic-region']\n",
    "temp.to_csv(r'../data/processedfiles/station-details.csv',index=False)"
   ]
  },
  {
   "cell_type": "code",
   "execution_count": 2,
   "metadata": {
    "ExecuteTime": {
     "end_time": "2020-03-16T14:16:47.925093Z",
     "start_time": "2020-03-16T14:16:36.078441Z"
    }
   },
   "outputs": [],
   "source": [
    "rainfall=pd.read_csv(r'../data/processedfiles/rainfall-data-final.csv')"
   ]
  },
  {
   "cell_type": "code",
   "execution_count": 3,
   "metadata": {
    "ExecuteTime": {
     "end_time": "2020-03-16T14:16:48.302746Z",
     "start_time": "2020-03-16T14:16:48.264955Z"
    }
   },
   "outputs": [],
   "source": [
    "consol_rainfall=pd.read_csv(r'../data/processedfiles/consolidated-rainfall.csv')"
   ]
  },
  {
   "cell_type": "code",
   "execution_count": 4,
   "metadata": {
    "ExecuteTime": {
     "end_time": "2020-03-16T14:16:48.433386Z",
     "start_time": "2020-03-16T14:16:48.408121Z"
    }
   },
   "outputs": [],
   "source": [
    "station_details=pd.read_csv(r'../data/processedfiles/station-details.csv')"
   ]
  },
  {
   "cell_type": "code",
   "execution_count": 5,
   "metadata": {
    "ExecuteTime": {
     "end_time": "2020-03-16T14:16:48.772385Z",
     "start_time": "2020-03-16T14:16:48.536399Z"
    }
   },
   "outputs": [],
   "source": [
    "station_details[station_details.columns] = station_details.apply(lambda x: x.str.strip())\n",
    "station_details[station_details.columns] = station_details.apply(lambda x: x.str.lower())"
   ]
  },
  {
   "cell_type": "code",
   "execution_count": 6,
   "metadata": {
    "ExecuteTime": {
     "end_time": "2020-03-16T14:16:48.908821Z",
     "start_time": "2020-03-16T14:16:48.873295Z"
    }
   },
   "outputs": [],
   "source": [
    "station_details['station-col-name']=station_details.apply(lambda x:x['station-name'].strip().lower()+'-'+x['district'].strip().lower(),axis=1 )"
   ]
  },
  {
   "cell_type": "code",
   "execution_count": 7,
   "metadata": {
    "ExecuteTime": {
     "end_time": "2020-03-16T14:16:49.048460Z",
     "start_time": "2020-03-16T14:16:49.010954Z"
    }
   },
   "outputs": [],
   "source": [
    "station_details.loc[station_details['station-col-name']=='gangapur city-sawai madhopur','station-col-name']='gangapur city-sawaimadhopur'\n",
    "station_details.loc[station_details['station-col-name']=='choth ka brwada-sawai madhopur','station-col-name']='choth ka brwada-sawaimadhopur'\n",
    "station_details.loc[station_details['station-col-name']=='malarana dungar-sawai madhopur','station-col-name']='malarana dungar-sawaimadhopur'"
   ]
  },
  {
   "cell_type": "code",
   "execution_count": 8,
   "metadata": {
    "ExecuteTime": {
     "end_time": "2020-03-16T14:16:49.130645Z",
     "start_time": "2020-03-16T14:16:49.124880Z"
    }
   },
   "outputs": [],
   "source": [
    "station_details.loc[station_details['station-col-name']=='pipal khunt-pratapgarh','station-col-name']='pipal khunt-partapgarh'"
   ]
  },
  {
   "cell_type": "code",
   "execution_count": 9,
   "metadata": {
    "ExecuteTime": {
     "end_time": "2020-03-16T14:16:49.265892Z",
     "start_time": "2020-03-16T14:16:49.249903Z"
    }
   },
   "outputs": [
    {
     "data": {
      "text/plain": [
       "228    gangapur city-sawaimadhopur\n",
       "Name: station-col-name, dtype: object"
      ]
     },
     "execution_count": 9,
     "metadata": {},
     "output_type": "execute_result"
    }
   ],
   "source": [
    "station_details[station_details['station-col-name']=='gangapur city-sawaimadhopur']['station-col-name']"
   ]
  },
  {
   "cell_type": "code",
   "execution_count": 10,
   "metadata": {
    "ExecuteTime": {
     "end_time": "2020-03-16T14:16:49.394357Z",
     "start_time": "2020-03-16T14:16:49.385879Z"
    }
   },
   "outputs": [],
   "source": [
    "stations=station_details.iloc[:,5]"
   ]
  },
  {
   "cell_type": "markdown",
   "metadata": {
    "ExecuteTime": {
     "end_time": "2020-03-14T11:27:29.907075Z",
     "start_time": "2020-03-14T11:27:29.795422Z"
    }
   },
   "source": [
    "### Current"
   ]
  },
  {
   "cell_type": "code",
   "execution_count": 11,
   "metadata": {
    "ExecuteTime": {
     "end_time": "2020-03-16T14:16:49.715870Z",
     "start_time": "2020-03-16T14:16:49.519561Z"
    }
   },
   "outputs": [],
   "source": [
    "rainfall_sub=pd.DataFrame({})\n",
    "rainfall_sub=rainfall.iloc[:,:3]\n",
    "not_found=[]\n",
    "for i in stations:\n",
    "    try:\n",
    "        rainfall_sub[i.strip()]=rainfall[i.strip()]\n",
    "    except:\n",
    "        not_found.append(i.strip())"
   ]
  },
  {
   "cell_type": "code",
   "execution_count": 12,
   "metadata": {
    "ExecuteTime": {
     "end_time": "2020-03-16T14:16:49.844502Z",
     "start_time": "2020-03-16T14:16:49.835439Z"
    }
   },
   "outputs": [
    {
     "data": {
      "text/plain": [
       "['jhalawar-jhalawar',\n",
       " 'dug-jhalawar',\n",
       " 'pirawa-jhalawar',\n",
       " 'bakani-jhalawar',\n",
       " 'aklera-jhalawar',\n",
       " 'manoharthana-jhalawar',\n",
       " 'khanpur-jhalawar',\n",
       " 'jhalrapatan-jhalawar',\n",
       " 'asnawar-jhalawar',\n",
       " 'pachpahar-jhalawar',\n",
       " 'gangdhar-jhalawar']"
      ]
     },
     "execution_count": 12,
     "metadata": {},
     "output_type": "execute_result"
    }
   ],
   "source": [
    "not_found"
   ]
  },
  {
   "cell_type": "code",
   "execution_count": 13,
   "metadata": {
    "ExecuteTime": {
     "end_time": "2020-03-16T14:16:50.089188Z",
     "start_time": "2020-03-16T14:16:49.965922Z"
    }
   },
   "outputs": [
    {
     "data": {
      "text/html": [
       "<div>\n",
       "<style scoped>\n",
       "    .dataframe tbody tr th:only-of-type {\n",
       "        vertical-align: middle;\n",
       "    }\n",
       "\n",
       "    .dataframe tbody tr th {\n",
       "        vertical-align: top;\n",
       "    }\n",
       "\n",
       "    .dataframe thead th {\n",
       "        text-align: right;\n",
       "    }\n",
       "</style>\n",
       "<table border=\"1\" class=\"dataframe\">\n",
       "  <thead>\n",
       "    <tr style=\"text-align: right;\">\n",
       "      <th></th>\n",
       "      <th>year</th>\n",
       "      <th>day-number</th>\n",
       "      <th>date</th>\n",
       "      <th>ajmer-ajmer</th>\n",
       "      <th>arain-ajmer</th>\n",
       "      <th>beawar-ajmer</th>\n",
       "      <th>bhinai-ajmer</th>\n",
       "      <th>gegal-ajmer</th>\n",
       "      <th>goela-ajmer</th>\n",
       "      <th>jawaja-ajmer</th>\n",
       "      <th>...</th>\n",
       "      <th>gogunda-udaipur</th>\n",
       "      <th>jhadol-udaipur</th>\n",
       "      <th>kherwara-udaipur</th>\n",
       "      <th>kotra-udaipur</th>\n",
       "      <th>mavli-udaipur</th>\n",
       "      <th>salumber-udaipur</th>\n",
       "      <th>sarara-udaipur</th>\n",
       "      <th>udaipur ( girwa )-udaipur</th>\n",
       "      <th>vallabh nagar-udaipur</th>\n",
       "      <th>dhariawad-udaipur</th>\n",
       "    </tr>\n",
       "  </thead>\n",
       "  <tbody>\n",
       "    <tr>\n",
       "      <th>0</th>\n",
       "      <td>1957</td>\n",
       "      <td>1</td>\n",
       "      <td>1957-01-01</td>\n",
       "      <td>0.0</td>\n",
       "      <td>0.0</td>\n",
       "      <td>0.0</td>\n",
       "      <td>0.0</td>\n",
       "      <td>0.0</td>\n",
       "      <td>0.0</td>\n",
       "      <td>0.0</td>\n",
       "      <td>...</td>\n",
       "      <td>0.0</td>\n",
       "      <td>-1.0</td>\n",
       "      <td>0.0</td>\n",
       "      <td>0.0</td>\n",
       "      <td>0.0</td>\n",
       "      <td>0.0</td>\n",
       "      <td>0.0</td>\n",
       "      <td>-1.0</td>\n",
       "      <td>0.0</td>\n",
       "      <td>-1.0</td>\n",
       "    </tr>\n",
       "    <tr>\n",
       "      <th>1</th>\n",
       "      <td>1957</td>\n",
       "      <td>2</td>\n",
       "      <td>1957-01-02</td>\n",
       "      <td>0.0</td>\n",
       "      <td>0.0</td>\n",
       "      <td>0.0</td>\n",
       "      <td>0.0</td>\n",
       "      <td>0.0</td>\n",
       "      <td>0.0</td>\n",
       "      <td>0.0</td>\n",
       "      <td>...</td>\n",
       "      <td>0.0</td>\n",
       "      <td>-1.0</td>\n",
       "      <td>0.0</td>\n",
       "      <td>0.0</td>\n",
       "      <td>0.0</td>\n",
       "      <td>0.0</td>\n",
       "      <td>0.0</td>\n",
       "      <td>-1.0</td>\n",
       "      <td>0.0</td>\n",
       "      <td>-1.0</td>\n",
       "    </tr>\n",
       "    <tr>\n",
       "      <th>2</th>\n",
       "      <td>1957</td>\n",
       "      <td>3</td>\n",
       "      <td>1957-01-03</td>\n",
       "      <td>0.0</td>\n",
       "      <td>0.0</td>\n",
       "      <td>0.0</td>\n",
       "      <td>0.0</td>\n",
       "      <td>0.0</td>\n",
       "      <td>0.0</td>\n",
       "      <td>0.0</td>\n",
       "      <td>...</td>\n",
       "      <td>0.0</td>\n",
       "      <td>-1.0</td>\n",
       "      <td>0.0</td>\n",
       "      <td>0.0</td>\n",
       "      <td>0.0</td>\n",
       "      <td>0.0</td>\n",
       "      <td>0.0</td>\n",
       "      <td>-1.0</td>\n",
       "      <td>0.0</td>\n",
       "      <td>-1.0</td>\n",
       "    </tr>\n",
       "    <tr>\n",
       "      <th>3</th>\n",
       "      <td>1957</td>\n",
       "      <td>4</td>\n",
       "      <td>1957-01-04</td>\n",
       "      <td>0.0</td>\n",
       "      <td>0.0</td>\n",
       "      <td>0.0</td>\n",
       "      <td>0.0</td>\n",
       "      <td>0.0</td>\n",
       "      <td>0.0</td>\n",
       "      <td>0.0</td>\n",
       "      <td>...</td>\n",
       "      <td>0.0</td>\n",
       "      <td>-1.0</td>\n",
       "      <td>0.0</td>\n",
       "      <td>0.0</td>\n",
       "      <td>0.0</td>\n",
       "      <td>0.0</td>\n",
       "      <td>0.0</td>\n",
       "      <td>-1.0</td>\n",
       "      <td>0.0</td>\n",
       "      <td>-1.0</td>\n",
       "    </tr>\n",
       "    <tr>\n",
       "      <th>4</th>\n",
       "      <td>1957</td>\n",
       "      <td>5</td>\n",
       "      <td>1957-01-05</td>\n",
       "      <td>0.0</td>\n",
       "      <td>0.0</td>\n",
       "      <td>0.0</td>\n",
       "      <td>0.0</td>\n",
       "      <td>0.0</td>\n",
       "      <td>0.0</td>\n",
       "      <td>0.0</td>\n",
       "      <td>...</td>\n",
       "      <td>0.0</td>\n",
       "      <td>-1.0</td>\n",
       "      <td>0.0</td>\n",
       "      <td>0.0</td>\n",
       "      <td>0.0</td>\n",
       "      <td>0.0</td>\n",
       "      <td>0.0</td>\n",
       "      <td>-1.0</td>\n",
       "      <td>0.0</td>\n",
       "      <td>-1.0</td>\n",
       "    </tr>\n",
       "    <tr>\n",
       "      <th>...</th>\n",
       "      <td>...</td>\n",
       "      <td>...</td>\n",
       "      <td>...</td>\n",
       "      <td>...</td>\n",
       "      <td>...</td>\n",
       "      <td>...</td>\n",
       "      <td>...</td>\n",
       "      <td>...</td>\n",
       "      <td>...</td>\n",
       "      <td>...</td>\n",
       "      <td>...</td>\n",
       "      <td>...</td>\n",
       "      <td>...</td>\n",
       "      <td>...</td>\n",
       "      <td>...</td>\n",
       "      <td>...</td>\n",
       "      <td>...</td>\n",
       "      <td>...</td>\n",
       "      <td>...</td>\n",
       "      <td>...</td>\n",
       "      <td>...</td>\n",
       "    </tr>\n",
       "    <tr>\n",
       "      <th>20449</th>\n",
       "      <td>2012</td>\n",
       "      <td>362</td>\n",
       "      <td>2012-12-27</td>\n",
       "      <td>0.0</td>\n",
       "      <td>0.0</td>\n",
       "      <td>0.0</td>\n",
       "      <td>0.0</td>\n",
       "      <td>0.0</td>\n",
       "      <td>0.0</td>\n",
       "      <td>0.0</td>\n",
       "      <td>...</td>\n",
       "      <td>0.0</td>\n",
       "      <td>0.0</td>\n",
       "      <td>0.0</td>\n",
       "      <td>0.0</td>\n",
       "      <td>0.0</td>\n",
       "      <td>0.0</td>\n",
       "      <td>0.0</td>\n",
       "      <td>0.0</td>\n",
       "      <td>0.0</td>\n",
       "      <td>-1.0</td>\n",
       "    </tr>\n",
       "    <tr>\n",
       "      <th>20450</th>\n",
       "      <td>2012</td>\n",
       "      <td>363</td>\n",
       "      <td>2012-12-28</td>\n",
       "      <td>0.0</td>\n",
       "      <td>0.0</td>\n",
       "      <td>0.0</td>\n",
       "      <td>0.0</td>\n",
       "      <td>0.0</td>\n",
       "      <td>0.0</td>\n",
       "      <td>0.0</td>\n",
       "      <td>...</td>\n",
       "      <td>0.0</td>\n",
       "      <td>0.0</td>\n",
       "      <td>0.0</td>\n",
       "      <td>0.0</td>\n",
       "      <td>0.0</td>\n",
       "      <td>0.0</td>\n",
       "      <td>0.0</td>\n",
       "      <td>0.0</td>\n",
       "      <td>0.0</td>\n",
       "      <td>-1.0</td>\n",
       "    </tr>\n",
       "    <tr>\n",
       "      <th>20451</th>\n",
       "      <td>2012</td>\n",
       "      <td>364</td>\n",
       "      <td>2012-12-29</td>\n",
       "      <td>0.0</td>\n",
       "      <td>0.0</td>\n",
       "      <td>0.0</td>\n",
       "      <td>0.0</td>\n",
       "      <td>0.0</td>\n",
       "      <td>0.0</td>\n",
       "      <td>0.0</td>\n",
       "      <td>...</td>\n",
       "      <td>0.0</td>\n",
       "      <td>0.0</td>\n",
       "      <td>0.0</td>\n",
       "      <td>0.0</td>\n",
       "      <td>0.0</td>\n",
       "      <td>0.0</td>\n",
       "      <td>0.0</td>\n",
       "      <td>0.0</td>\n",
       "      <td>0.0</td>\n",
       "      <td>-1.0</td>\n",
       "    </tr>\n",
       "    <tr>\n",
       "      <th>20452</th>\n",
       "      <td>2012</td>\n",
       "      <td>365</td>\n",
       "      <td>2012-12-30</td>\n",
       "      <td>0.0</td>\n",
       "      <td>0.0</td>\n",
       "      <td>0.0</td>\n",
       "      <td>0.0</td>\n",
       "      <td>0.0</td>\n",
       "      <td>0.0</td>\n",
       "      <td>0.0</td>\n",
       "      <td>...</td>\n",
       "      <td>0.0</td>\n",
       "      <td>0.0</td>\n",
       "      <td>0.0</td>\n",
       "      <td>0.0</td>\n",
       "      <td>0.0</td>\n",
       "      <td>0.0</td>\n",
       "      <td>0.0</td>\n",
       "      <td>0.0</td>\n",
       "      <td>0.0</td>\n",
       "      <td>-1.0</td>\n",
       "    </tr>\n",
       "    <tr>\n",
       "      <th>20453</th>\n",
       "      <td>2012</td>\n",
       "      <td>366</td>\n",
       "      <td>2012-12-31</td>\n",
       "      <td>0.0</td>\n",
       "      <td>0.0</td>\n",
       "      <td>0.0</td>\n",
       "      <td>0.0</td>\n",
       "      <td>0.0</td>\n",
       "      <td>0.0</td>\n",
       "      <td>0.0</td>\n",
       "      <td>...</td>\n",
       "      <td>0.0</td>\n",
       "      <td>0.0</td>\n",
       "      <td>0.0</td>\n",
       "      <td>0.0</td>\n",
       "      <td>0.0</td>\n",
       "      <td>0.0</td>\n",
       "      <td>0.0</td>\n",
       "      <td>0.0</td>\n",
       "      <td>0.0</td>\n",
       "      <td>-1.0</td>\n",
       "    </tr>\n",
       "  </tbody>\n",
       "</table>\n",
       "<p>20454 rows × 263 columns</p>\n",
       "</div>"
      ],
      "text/plain": [
       "       year  day-number        date  ajmer-ajmer  arain-ajmer  beawar-ajmer  \\\n",
       "0      1957           1  1957-01-01          0.0          0.0           0.0   \n",
       "1      1957           2  1957-01-02          0.0          0.0           0.0   \n",
       "2      1957           3  1957-01-03          0.0          0.0           0.0   \n",
       "3      1957           4  1957-01-04          0.0          0.0           0.0   \n",
       "4      1957           5  1957-01-05          0.0          0.0           0.0   \n",
       "...     ...         ...         ...          ...          ...           ...   \n",
       "20449  2012         362  2012-12-27          0.0          0.0           0.0   \n",
       "20450  2012         363  2012-12-28          0.0          0.0           0.0   \n",
       "20451  2012         364  2012-12-29          0.0          0.0           0.0   \n",
       "20452  2012         365  2012-12-30          0.0          0.0           0.0   \n",
       "20453  2012         366  2012-12-31          0.0          0.0           0.0   \n",
       "\n",
       "       bhinai-ajmer  gegal-ajmer  goela-ajmer  jawaja-ajmer  ...  \\\n",
       "0               0.0          0.0          0.0           0.0  ...   \n",
       "1               0.0          0.0          0.0           0.0  ...   \n",
       "2               0.0          0.0          0.0           0.0  ...   \n",
       "3               0.0          0.0          0.0           0.0  ...   \n",
       "4               0.0          0.0          0.0           0.0  ...   \n",
       "...             ...          ...          ...           ...  ...   \n",
       "20449           0.0          0.0          0.0           0.0  ...   \n",
       "20450           0.0          0.0          0.0           0.0  ...   \n",
       "20451           0.0          0.0          0.0           0.0  ...   \n",
       "20452           0.0          0.0          0.0           0.0  ...   \n",
       "20453           0.0          0.0          0.0           0.0  ...   \n",
       "\n",
       "       gogunda-udaipur  jhadol-udaipur  kherwara-udaipur  kotra-udaipur  \\\n",
       "0                  0.0            -1.0               0.0            0.0   \n",
       "1                  0.0            -1.0               0.0            0.0   \n",
       "2                  0.0            -1.0               0.0            0.0   \n",
       "3                  0.0            -1.0               0.0            0.0   \n",
       "4                  0.0            -1.0               0.0            0.0   \n",
       "...                ...             ...               ...            ...   \n",
       "20449              0.0             0.0               0.0            0.0   \n",
       "20450              0.0             0.0               0.0            0.0   \n",
       "20451              0.0             0.0               0.0            0.0   \n",
       "20452              0.0             0.0               0.0            0.0   \n",
       "20453              0.0             0.0               0.0            0.0   \n",
       "\n",
       "       mavli-udaipur  salumber-udaipur  sarara-udaipur  \\\n",
       "0                0.0               0.0             0.0   \n",
       "1                0.0               0.0             0.0   \n",
       "2                0.0               0.0             0.0   \n",
       "3                0.0               0.0             0.0   \n",
       "4                0.0               0.0             0.0   \n",
       "...              ...               ...             ...   \n",
       "20449            0.0               0.0             0.0   \n",
       "20450            0.0               0.0             0.0   \n",
       "20451            0.0               0.0             0.0   \n",
       "20452            0.0               0.0             0.0   \n",
       "20453            0.0               0.0             0.0   \n",
       "\n",
       "       udaipur ( girwa )-udaipur  vallabh nagar-udaipur  dhariawad-udaipur  \n",
       "0                           -1.0                    0.0               -1.0  \n",
       "1                           -1.0                    0.0               -1.0  \n",
       "2                           -1.0                    0.0               -1.0  \n",
       "3                           -1.0                    0.0               -1.0  \n",
       "4                           -1.0                    0.0               -1.0  \n",
       "...                          ...                    ...                ...  \n",
       "20449                        0.0                    0.0               -1.0  \n",
       "20450                        0.0                    0.0               -1.0  \n",
       "20451                        0.0                    0.0               -1.0  \n",
       "20452                        0.0                    0.0               -1.0  \n",
       "20453                        0.0                    0.0               -1.0  \n",
       "\n",
       "[20454 rows x 263 columns]"
      ]
     },
     "execution_count": 13,
     "metadata": {},
     "output_type": "execute_result"
    }
   ],
   "source": [
    "rainfall_sub"
   ]
  },
  {
   "cell_type": "code",
   "execution_count": 14,
   "metadata": {
    "ExecuteTime": {
     "end_time": "2020-03-16T14:16:50.285300Z",
     "start_time": "2020-03-16T14:16:50.281597Z"
    }
   },
   "outputs": [],
   "source": [
    "stations=rainfall_sub.columns"
   ]
  },
  {
   "cell_type": "code",
   "execution_count": 15,
   "metadata": {
    "ExecuteTime": {
     "end_time": "2020-03-16T14:16:50.471272Z",
     "start_time": "2020-03-16T14:16:50.466527Z"
    }
   },
   "outputs": [],
   "source": [
    "station_details_sub=station_details[station_details['station-col-name'].isin(stations)]"
   ]
  },
  {
   "cell_type": "code",
   "execution_count": 16,
   "metadata": {
    "ExecuteTime": {
     "end_time": "2020-03-16T14:16:50.668627Z",
     "start_time": "2020-03-16T14:16:50.657687Z"
    }
   },
   "outputs": [
    {
     "data": {
      "text/plain": [
       "(260, 6)"
      ]
     },
     "execution_count": 16,
     "metadata": {},
     "output_type": "execute_result"
    }
   ],
   "source": [
    "station_details_sub.shape"
   ]
  },
  {
   "cell_type": "code",
   "execution_count": 17,
   "metadata": {
    "ExecuteTime": {
     "end_time": "2020-03-16T14:16:50.895245Z",
     "start_time": "2020-03-16T14:16:50.870288Z"
    }
   },
   "outputs": [
    {
     "data": {
      "text/html": [
       "<div>\n",
       "<style scoped>\n",
       "    .dataframe tbody tr th:only-of-type {\n",
       "        vertical-align: middle;\n",
       "    }\n",
       "\n",
       "    .dataframe tbody tr th {\n",
       "        vertical-align: top;\n",
       "    }\n",
       "\n",
       "    .dataframe thead th {\n",
       "        text-align: right;\n",
       "    }\n",
       "</style>\n",
       "<table border=\"1\" class=\"dataframe\">\n",
       "  <thead>\n",
       "    <tr style=\"text-align: right;\">\n",
       "      <th></th>\n",
       "      <th>station-name</th>\n",
       "      <th>district</th>\n",
       "      <th>climatic-region</th>\n",
       "      <th>koeppen-climatic-region</th>\n",
       "      <th>thornthwaite-climatic-region</th>\n",
       "      <th>station-col-name</th>\n",
       "    </tr>\n",
       "  </thead>\n",
       "  <tbody>\n",
       "    <tr>\n",
       "      <th>0</th>\n",
       "      <td>ajmer</td>\n",
       "      <td>ajmer</td>\n",
       "      <td>sub humid</td>\n",
       "      <td>aw</td>\n",
       "      <td>daw</td>\n",
       "      <td>ajmer-ajmer</td>\n",
       "    </tr>\n",
       "    <tr>\n",
       "      <th>1</th>\n",
       "      <td>arain</td>\n",
       "      <td>ajmer</td>\n",
       "      <td>sub humid</td>\n",
       "      <td>bshw</td>\n",
       "      <td>daw</td>\n",
       "      <td>arain-ajmer</td>\n",
       "    </tr>\n",
       "    <tr>\n",
       "      <th>2</th>\n",
       "      <td>beawar</td>\n",
       "      <td>ajmer</td>\n",
       "      <td>sub humid</td>\n",
       "      <td>bshw</td>\n",
       "      <td>daw</td>\n",
       "      <td>beawar-ajmer</td>\n",
       "    </tr>\n",
       "    <tr>\n",
       "      <th>3</th>\n",
       "      <td>bhinai</td>\n",
       "      <td>ajmer</td>\n",
       "      <td>sub humid</td>\n",
       "      <td>bshw</td>\n",
       "      <td>daw</td>\n",
       "      <td>bhinai-ajmer</td>\n",
       "    </tr>\n",
       "    <tr>\n",
       "      <th>4</th>\n",
       "      <td>gegal</td>\n",
       "      <td>ajmer</td>\n",
       "      <td>sub humid</td>\n",
       "      <td>bshw</td>\n",
       "      <td>daw</td>\n",
       "      <td>gegal-ajmer</td>\n",
       "    </tr>\n",
       "  </tbody>\n",
       "</table>\n",
       "</div>"
      ],
      "text/plain": [
       "  station-name district climatic-region koeppen-climatic-region  \\\n",
       "0        ajmer    ajmer       sub humid                      aw   \n",
       "1        arain    ajmer       sub humid                    bshw   \n",
       "2       beawar    ajmer       sub humid                    bshw   \n",
       "3       bhinai    ajmer       sub humid                    bshw   \n",
       "4        gegal    ajmer       sub humid                    bshw   \n",
       "\n",
       "  thornthwaite-climatic-region station-col-name  \n",
       "0                          daw      ajmer-ajmer  \n",
       "1                          daw      arain-ajmer  \n",
       "2                          daw     beawar-ajmer  \n",
       "3                          daw     bhinai-ajmer  \n",
       "4                          daw      gegal-ajmer  "
      ]
     },
     "execution_count": 17,
     "metadata": {},
     "output_type": "execute_result"
    }
   ],
   "source": [
    "station_details_sub.head()"
   ]
  },
  {
   "cell_type": "code",
   "execution_count": 18,
   "metadata": {
    "ExecuteTime": {
     "end_time": "2020-03-16T14:16:51.078701Z",
     "start_time": "2020-03-16T14:16:51.061076Z"
    }
   },
   "outputs": [
    {
     "data": {
      "text/html": [
       "<div>\n",
       "<style scoped>\n",
       "    .dataframe tbody tr th:only-of-type {\n",
       "        vertical-align: middle;\n",
       "    }\n",
       "\n",
       "    .dataframe tbody tr th {\n",
       "        vertical-align: top;\n",
       "    }\n",
       "\n",
       "    .dataframe thead th {\n",
       "        text-align: right;\n",
       "    }\n",
       "</style>\n",
       "<table border=\"1\" class=\"dataframe\">\n",
       "  <thead>\n",
       "    <tr style=\"text-align: right;\">\n",
       "      <th></th>\n",
       "      <th>station-name</th>\n",
       "      <th>district</th>\n",
       "      <th>climatic-region</th>\n",
       "      <th>koeppen-climatic-region</th>\n",
       "      <th>thornthwaite-climatic-region</th>\n",
       "      <th>station-col-name</th>\n",
       "    </tr>\n",
       "  </thead>\n",
       "  <tbody>\n",
       "  </tbody>\n",
       "</table>\n",
       "</div>"
      ],
      "text/plain": [
       "Empty DataFrame\n",
       "Columns: [station-name, district, climatic-region, koeppen-climatic-region, thornthwaite-climatic-region, station-col-name]\n",
       "Index: []"
      ]
     },
     "execution_count": 18,
     "metadata": {},
     "output_type": "execute_result"
    }
   ],
   "source": [
    "station_details[station_details['station-col-name'].duplicated()]"
   ]
  },
  {
   "cell_type": "code",
   "execution_count": 19,
   "metadata": {
    "ExecuteTime": {
     "end_time": "2020-03-16T14:16:51.562753Z",
     "start_time": "2020-03-16T14:16:51.238491Z"
    }
   },
   "outputs": [],
   "source": [
    "station_details.to_csv(r'../data/processedfiles/station-details.csv',index=False)"
   ]
  },
  {
   "cell_type": "code",
   "execution_count": 20,
   "metadata": {
    "ExecuteTime": {
     "end_time": "2020-03-16T14:16:51.903345Z",
     "start_time": "2020-03-16T14:16:51.888779Z"
    }
   },
   "outputs": [],
   "source": [
    "station_details_sub.to_csv(r'../data/processedfiles/station-details-sub.csv',index=False)"
   ]
  },
  {
   "cell_type": "code",
   "execution_count": 21,
   "metadata": {
    "ExecuteTime": {
     "end_time": "2020-03-16T14:16:57.379282Z",
     "start_time": "2020-03-16T14:16:52.088245Z"
    }
   },
   "outputs": [],
   "source": [
    "rainfall_sub.to_csv(r'../data/processedfiles/rainfall-data-final-sub.csv',index=False)"
   ]
  },
  {
   "cell_type": "code",
   "execution_count": null,
   "metadata": {},
   "outputs": [],
   "source": []
  }
 ],
 "metadata": {
  "kernelspec": {
   "display_name": "Python 3",
   "language": "python",
   "name": "python3"
  },
  "language_info": {
   "codemirror_mode": {
    "name": "ipython",
    "version": 3
   },
   "file_extension": ".py",
   "mimetype": "text/x-python",
   "name": "python",
   "nbconvert_exporter": "python",
   "pygments_lexer": "ipython3",
   "version": "3.6.10"
  },
  "varInspector": {
   "cols": {
    "lenName": 16,
    "lenType": 16,
    "lenVar": 40
   },
   "kernels_config": {
    "python": {
     "delete_cmd_postfix": "",
     "delete_cmd_prefix": "del ",
     "library": "var_list.py",
     "varRefreshCmd": "print(var_dic_list())"
    },
    "r": {
     "delete_cmd_postfix": ") ",
     "delete_cmd_prefix": "rm(",
     "library": "var_list.r",
     "varRefreshCmd": "cat(var_dic_list()) "
    }
   },
   "types_to_exclude": [
    "module",
    "function",
    "builtin_function_or_method",
    "instance",
    "_Feature"
   ],
   "window_display": false
  }
 },
 "nbformat": 4,
 "nbformat_minor": 4
}
