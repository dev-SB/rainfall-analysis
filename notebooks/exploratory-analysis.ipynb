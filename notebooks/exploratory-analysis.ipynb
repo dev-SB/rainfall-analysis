{
 "cells": [
  {
   "cell_type": "code",
   "execution_count": 1,
   "metadata": {
    "ExecuteTime": {
     "end_time": "2020-03-20T08:27:50.273536Z",
     "start_time": "2020-03-20T08:27:48.890203Z"
    }
   },
   "outputs": [],
   "source": [
    "import pandas as pd\n",
    "import plotly.graph_objects as go\n",
    "import plotly.io as pio\n",
    "import plotly.express as px\n",
    "# renderer for jupyter notebook\n",
    "pio.renderers.default='notebook'\n",
    "# renderer for vs code\n",
    "# pio.renderers.default='vscode'\n",
    "# renderer for colab\n",
    "# pio.renderers.default='colab'\n",
    "pio.templates.default = \"plotly_dark\"\n",
    "import numpy as np\n",
    "import statsmodels.api as sm\n",
    "import datetime\n",
    "from plotly.subplots import make_subplots\n",
    "from ipywidgets import widgets,Layout"
   ]
  },
  {
   "cell_type": "code",
   "execution_count": 2,
   "metadata": {
    "ExecuteTime": {
     "end_time": "2020-03-20T08:27:55.779364Z",
     "start_time": "2020-03-20T08:27:55.619630Z"
    }
   },
   "outputs": [],
   "source": [
    "rain=pd.read_csv(r'../data/processedfiles/rainfall-by-region.csv')\n",
    "rain=rain.set_index('date',drop=False)\n",
    "regions=list(rain.columns.values)[5:]\n",
    "years=list(rain['year'].unique())"
   ]
  },
  {
   "cell_type": "code",
   "execution_count": 3,
   "metadata": {
    "ExecuteTime": {
     "end_time": "2020-03-20T08:27:56.188312Z",
     "start_time": "2020-03-20T08:27:56.183256Z"
    }
   },
   "outputs": [],
   "source": [
    "# rain considered from Day number 150 to 280"
   ]
  },
  {
   "cell_type": "code",
   "execution_count": 4,
   "metadata": {
    "ExecuteTime": {
     "end_time": "2020-03-20T08:27:56.674551Z",
     "start_time": "2020-03-20T08:27:56.655418Z"
    }
   },
   "outputs": [],
   "source": [
    "monsoon_list=[i for i in range(150,281)]\n",
    "rain_monsoon=rain[rain['day-number'].isin(monsoon_list)]"
   ]
  },
  {
   "cell_type": "markdown",
   "metadata": {
    "heading_collapsed": true
   },
   "source": [
    "### Plotting Functions"
   ]
  },
  {
   "cell_type": "code",
   "execution_count": 5,
   "metadata": {
    "ExecuteTime": {
     "end_time": "2020-03-20T08:27:57.200685Z",
     "start_time": "2020-03-20T08:27:57.172230Z"
    },
    "hidden": true
   },
   "outputs": [],
   "source": [
    "# dropdown widget\n",
    "region = widgets.Dropdown(\n",
    "    options=regions,\n",
    "    value=regions[0], description='Region',layout=Layout(margin='20px 20px 20px 20px'))\n",
    "container=widgets.HBox([region])"
   ]
  },
  {
   "cell_type": "code",
   "execution_count": 6,
   "metadata": {
    "ExecuteTime": {
     "end_time": "2020-03-20T08:27:57.736699Z",
     "start_time": "2020-03-20T08:27:57.722019Z"
    },
    "hidden": true
   },
   "outputs": [],
   "source": [
    "def plot_fig(id_r,title,x_axis,g,data,iterate_list):\n",
    "    var={i.split()[0].lower():i for i  in regions}\n",
    "    id_region=var[id_r]\n",
    "    with g.batch_update():\n",
    "        if len(iterate_list)!=0:\n",
    "            for i in iterate_list:\n",
    "                df = data[data['year'] == i]\n",
    "                g.data[i-1957].y=df[id_region]\n",
    "                g.data[i-1957].name=str(i)\n",
    "                g.data[i-1957].x=df[x_axis]\n",
    "        else:\n",
    "            g.data[0].y=data[id_region]\n",
    "            g.data[0].name=str(title)\n",
    "            g.data[0].x=data[x_axis]"
   ]
  },
  {
   "cell_type": "code",
   "execution_count": 7,
   "metadata": {
    "ExecuteTime": {
     "end_time": "2020-03-20T08:27:58.212321Z",
     "start_time": "2020-03-20T08:27:58.202569Z"
    },
    "hidden": true
   },
   "outputs": [],
   "source": [
    "def initial_plot(x_axis,df,iterate_list,title,x_axis_title):\n",
    "#     list_type=year\n",
    "    traces=[]\n",
    "    if len(iterate_list)==0:\n",
    "        traces.append(go.Scatter(x=df[x_axis],y=df[regions[0]],name=regions[0]))\n",
    "    else:\n",
    "        for i in iterate_list:\n",
    "            temp = df[df['year'] == i]\n",
    "            traces.append(go.Scatter(x=temp[x_axis],y=temp[regions[0]],name=str(i)))\n",
    "    layout = go.Layout(title=dict(text=title),xaxis=dict(title=x_axis_title,rangeslider=dict(visible=True)),yaxis=dict(title='Rainfall (inch)'))\n",
    "    go.Layout()\n",
    "    return go.FigureWidget(data=traces, layout=layout)"
   ]
  },
  {
   "cell_type": "code",
   "execution_count": 8,
   "metadata": {
    "ExecuteTime": {
     "end_time": "2020-03-20T08:27:58.700820Z",
     "start_time": "2020-03-20T08:27:58.695070Z"
    },
    "hidden": true
   },
   "outputs": [],
   "source": [
    "def response(change):\n",
    "    val=region.value.split()[0].lower()\n",
    "    plot_fig(val,region.value,'day-number',g,rain_monsoon,years)\n",
    "    plot_fig(val,region.value,'month',g_mean_monthly_year,mean_monthly_year,years)\n",
    "    plot_fig(val,region.value,'month',g_median_monthly_year,median_monthly_year,years)\n",
    "    plot_fig(val,region.value,'year',g_mean_yearly,mean_yearly,[])\n",
    "    plot_fig(val,region.value,'year',g_median_yearly,median_yearly,[])\n",
    "    plot_fig(val,region.value,'day-number',g_mean_daily,mean_daily,[])\n",
    "    plot_fig(val,region.value,'day-number',g_median_daily,median_daily,[])\n",
    "    plot_fig(val,region.value,'day-number',g_mean_daily_monsoon,mean_daily_monsoon,[])\n",
    "    plot_fig(val,region.value,'day-number',g_median_daily_monsoon,median_daily_monsoon,[])"
   ]
  },
  {
   "cell_type": "code",
   "execution_count": 9,
   "metadata": {
    "ExecuteTime": {
     "end_time": "2020-03-20T08:27:59.285946Z",
     "start_time": "2020-03-20T08:27:59.273001Z"
    },
    "hidden": true
   },
   "outputs": [],
   "source": [
    "region.observe(response,names='value')"
   ]
  },
  {
   "cell_type": "markdown",
   "metadata": {
    "heading_collapsed": true
   },
   "source": [
    "### Rain observed in all classification daily basIs (only monsoon time)"
   ]
  },
  {
   "cell_type": "code",
   "execution_count": 10,
   "metadata": {
    "ExecuteTime": {
     "end_time": "2020-03-20T08:28:01.800416Z",
     "start_time": "2020-03-20T08:28:00.364329Z"
    },
    "hidden": true
   },
   "outputs": [
    {
     "data": {
      "application/vnd.jupyter.widget-view+json": {
       "model_id": "98dce318190248758c12886b4c25f6bd",
       "version_major": 2,
       "version_minor": 0
      },
      "text/plain": [
       "VBox(children=(HBox(children=(Dropdown(description='Region', layout=Layout(margin='20px 20px 20px 20px'), opti…"
      ]
     },
     "metadata": {},
     "output_type": "display_data"
    }
   ],
   "source": [
    "g=initial_plot('day-number',rain_monsoon,years,'Rain observed on daily basis (monsoon time)','Date of year')\n",
    "total_container=widgets.VBox([container,g])\n",
    "display(total_container)"
   ]
  },
  {
   "cell_type": "markdown",
   "metadata": {
    "heading_collapsed": true
   },
   "source": [
    "### Rain Observed in all classification Monthly basis (mean and median)"
   ]
  },
  {
   "cell_type": "code",
   "execution_count": 11,
   "metadata": {
    "ExecuteTime": {
     "end_time": "2020-03-20T08:28:07.822339Z",
     "start_time": "2020-03-20T08:28:07.773752Z"
    },
    "hidden": true
   },
   "outputs": [],
   "source": [
    "mean_monthly_year=rain.groupby(['year','month'],as_index=False)[regions].mean()\n",
    "median_monthly_year=rain.groupby(['year','month'],as_index=False)[regions].median()"
   ]
  },
  {
   "cell_type": "code",
   "execution_count": 12,
   "metadata": {
    "ExecuteTime": {
     "end_time": "2020-03-20T08:28:14.892132Z",
     "start_time": "2020-03-20T08:28:12.902194Z"
    },
    "hidden": true
   },
   "outputs": [
    {
     "data": {
      "application/vnd.jupyter.widget-view+json": {
       "model_id": "4d4e31dd8138431989756530c1c9dd89",
       "version_major": 2,
       "version_minor": 0
      },
      "text/plain": [
       "VBox(children=(HBox(children=(Dropdown(description='Region', layout=Layout(margin='20px 20px 20px 20px'), opti…"
      ]
     },
     "metadata": {},
     "output_type": "display_data"
    }
   ],
   "source": [
    "g_mean_monthly_year=initial_plot('month',mean_monthly_year,years,'Mean rain observed on monthly basis','Month')\n",
    "g_median_monthly_year=initial_plot('month',median_monthly_year,years,'Median rain observed on monthly basis','Month')\n",
    "total_container=widgets.VBox([container,g_mean_monthly_year,g_median_monthly_year])\n",
    "display(total_container)"
   ]
  },
  {
   "cell_type": "markdown",
   "metadata": {
    "heading_collapsed": true
   },
   "source": [
    "### Rain Observed in all classification Yearly basis (mean and median)"
   ]
  },
  {
   "cell_type": "code",
   "execution_count": 13,
   "metadata": {
    "ExecuteTime": {
     "end_time": "2020-03-20T08:28:21.247013Z",
     "start_time": "2020-03-20T08:28:21.204706Z"
    },
    "hidden": true
   },
   "outputs": [],
   "source": [
    "mean_yearly=rain.groupby(['year'],as_index=False)[regions].mean()\n",
    "median_yearly=rain.groupby(['year'],as_index=False)[regions].median()"
   ]
  },
  {
   "cell_type": "code",
   "execution_count": 14,
   "metadata": {
    "ExecuteTime": {
     "end_time": "2020-03-20T08:28:29.037026Z",
     "start_time": "2020-03-20T08:28:28.127781Z"
    },
    "hidden": true
   },
   "outputs": [
    {
     "data": {
      "application/vnd.jupyter.widget-view+json": {
       "model_id": "75d2469f14ae4c639379432ba87e0333",
       "version_major": 2,
       "version_minor": 0
      },
      "text/plain": [
       "Dropdown(description='Region', layout=Layout(margin='20px 20px 20px 20px'), options=('ajmer', 'alwar', 'banswa…"
      ]
     },
     "metadata": {},
     "output_type": "display_data"
    },
    {
     "data": {
      "application/vnd.jupyter.widget-view+json": {
       "model_id": "b5a1e2e88b8e414ab4172b5e45185e5a",
       "version_major": 2,
       "version_minor": 0
      },
      "text/plain": [
       "FigureWidget({\n",
       "    'data': [{'name': 'ajmer',\n",
       "              'type': 'scatter',\n",
       "              'uid': 'c8202664-…"
      ]
     },
     "metadata": {},
     "output_type": "display_data"
    },
    {
     "data": {
      "application/vnd.jupyter.widget-view+json": {
       "model_id": "7589a4e72ef1496bb345d101872266ec",
       "version_major": 2,
       "version_minor": 0
      },
      "text/plain": [
       "FigureWidget({\n",
       "    'data': [{'name': 'ajmer',\n",
       "              'type': 'scatter',\n",
       "              'uid': 'fff38b94-…"
      ]
     },
     "metadata": {},
     "output_type": "display_data"
    }
   ],
   "source": [
    "g_mean_yearly=initial_plot('year',mean_yearly,[],'Mean rain observed on yearly basis','Year')\n",
    "g_median_yearly=initial_plot('year',median_yearly,[],'Median rain observed on yearly basis','Year')\n",
    "display(region,g_mean_yearly,g_median_yearly)"
   ]
  },
  {
   "cell_type": "markdown",
   "metadata": {
    "heading_collapsed": true
   },
   "source": [
    "### Rainfall day wise distribution in all classification :full year (mean and median)"
   ]
  },
  {
   "cell_type": "code",
   "execution_count": 15,
   "metadata": {
    "ExecuteTime": {
     "end_time": "2020-03-20T08:28:35.708296Z",
     "start_time": "2020-03-20T08:28:35.663392Z"
    },
    "hidden": true
   },
   "outputs": [],
   "source": [
    "mean_daily=rain.groupby(['day-number'],as_index=False)[regions].mean()\n",
    "median_daily=rain.groupby(['day-number'],as_index=False)[regions].median()"
   ]
  },
  {
   "cell_type": "code",
   "execution_count": 16,
   "metadata": {
    "ExecuteTime": {
     "end_time": "2020-03-20T08:28:43.887215Z",
     "start_time": "2020-03-20T08:28:43.198020Z"
    },
    "hidden": true
   },
   "outputs": [
    {
     "data": {
      "application/vnd.jupyter.widget-view+json": {
       "model_id": "75d2469f14ae4c639379432ba87e0333",
       "version_major": 2,
       "version_minor": 0
      },
      "text/plain": [
       "Dropdown(description='Region', layout=Layout(margin='20px 20px 20px 20px'), options=('ajmer', 'alwar', 'banswa…"
      ]
     },
     "metadata": {},
     "output_type": "display_data"
    },
    {
     "data": {
      "application/vnd.jupyter.widget-view+json": {
       "model_id": "2ee58e6d3223469bae9f7baed2c693d3",
       "version_major": 2,
       "version_minor": 0
      },
      "text/plain": [
       "FigureWidget({\n",
       "    'data': [{'name': 'ajmer',\n",
       "              'type': 'scatter',\n",
       "              'uid': 'd908a258-…"
      ]
     },
     "metadata": {},
     "output_type": "display_data"
    },
    {
     "data": {
      "application/vnd.jupyter.widget-view+json": {
       "model_id": "803ea59f69a34959a59c102d63647175",
       "version_major": 2,
       "version_minor": 0
      },
      "text/plain": [
       "FigureWidget({\n",
       "    'data': [{'name': 'ajmer',\n",
       "              'type': 'scatter',\n",
       "              'uid': '75b5c3df-…"
      ]
     },
     "metadata": {},
     "output_type": "display_data"
    }
   ],
   "source": [
    "g_mean_daily=initial_plot('day-number',mean_daily,[],'Mean distribution of Rainfall','Day of year')\n",
    "g_median_daily=initial_plot('day-number',median_daily,[],'Median distribution of Rainfall','Day of year')\n",
    "display(region,g_mean_daily,g_median_daily)"
   ]
  },
  {
   "cell_type": "markdown",
   "metadata": {
    "heading_collapsed": true
   },
   "source": [
    "### Rainfall day wise distribution in all classification : monsoon time (mean and median)"
   ]
  },
  {
   "cell_type": "code",
   "execution_count": 17,
   "metadata": {
    "ExecuteTime": {
     "end_time": "2020-03-20T08:28:49.317643Z",
     "start_time": "2020-03-20T08:28:49.294236Z"
    },
    "hidden": true
   },
   "outputs": [],
   "source": [
    "mean_daily_monsoon=rain_monsoon.groupby(['day-number'],as_index=False)[regions].mean()\n",
    "median_daily_monsoon=rain_monsoon.groupby(['day-number'],as_index=False)[regions].median()"
   ]
  },
  {
   "cell_type": "code",
   "execution_count": 18,
   "metadata": {
    "ExecuteTime": {
     "end_time": "2020-03-20T08:28:55.190562Z",
     "start_time": "2020-03-20T08:28:54.611391Z"
    },
    "hidden": true
   },
   "outputs": [
    {
     "data": {
      "application/vnd.jupyter.widget-view+json": {
       "model_id": "75d2469f14ae4c639379432ba87e0333",
       "version_major": 2,
       "version_minor": 0
      },
      "text/plain": [
       "Dropdown(description='Region', layout=Layout(margin='20px 20px 20px 20px'), options=('ajmer', 'alwar', 'banswa…"
      ]
     },
     "metadata": {},
     "output_type": "display_data"
    },
    {
     "data": {
      "application/vnd.jupyter.widget-view+json": {
       "model_id": "3e97430f96bf4565aa65b5feae73b30b",
       "version_major": 2,
       "version_minor": 0
      },
      "text/plain": [
       "FigureWidget({\n",
       "    'data': [{'name': 'ajmer',\n",
       "              'type': 'scatter',\n",
       "              'uid': '33f26448-…"
      ]
     },
     "metadata": {},
     "output_type": "display_data"
    },
    {
     "data": {
      "application/vnd.jupyter.widget-view+json": {
       "model_id": "97c35aa330f14d57988503fe7e8c8c19",
       "version_major": 2,
       "version_minor": 0
      },
      "text/plain": [
       "FigureWidget({\n",
       "    'data': [{'name': 'ajmer',\n",
       "              'type': 'scatter',\n",
       "              'uid': 'e94d7bcf-…"
      ]
     },
     "metadata": {},
     "output_type": "display_data"
    }
   ],
   "source": [
    "g_mean_daily_monsoon=initial_plot('day-number',mean_daily_monsoon,[],'Mean distribution of Rainfall (monsoon time)','Day of year')\n",
    "g_median_daily_monsoon=initial_plot('day-number',median_daily_monsoon,[],'Median distribution of Rainfall (monsoon time)','Day of year')\n",
    "display(region,g_mean_daily_monsoon,g_median_daily_monsoon)"
   ]
  },
  {
   "cell_type": "markdown",
   "metadata": {},
   "source": [
    "### Outlier calculation in all classification: year/month/daily"
   ]
  },
  {
   "cell_type": "code",
   "execution_count": null,
   "metadata": {},
   "outputs": [],
   "source": []
  }
 ],
 "metadata": {
  "kernelspec": {
   "display_name": "Python 3",
   "language": "python",
   "name": "python3"
  },
  "language_info": {
   "codemirror_mode": {
    "name": "ipython",
    "version": 3
   },
   "file_extension": ".py",
   "mimetype": "text/x-python",
   "name": "python",
   "nbconvert_exporter": "python",
   "pygments_lexer": "ipython3",
   "version": "3.6.10"
  },
  "varInspector": {
   "cols": {
    "lenName": 16,
    "lenType": 16,
    "lenVar": 40
   },
   "kernels_config": {
    "python": {
     "delete_cmd_postfix": "",
     "delete_cmd_prefix": "del ",
     "library": "var_list.py",
     "varRefreshCmd": "print(var_dic_list())"
    },
    "r": {
     "delete_cmd_postfix": ") ",
     "delete_cmd_prefix": "rm(",
     "library": "var_list.r",
     "varRefreshCmd": "cat(var_dic_list()) "
    }
   },
   "types_to_exclude": [
    "module",
    "function",
    "builtin_function_or_method",
    "instance",
    "_Feature"
   ],
   "window_display": false
  }
 },
 "nbformat": 4,
 "nbformat_minor": 4
}
