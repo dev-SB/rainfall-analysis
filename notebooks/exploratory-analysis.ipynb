{
 "cells": [
  {
   "cell_type": "code",
   "execution_count": null,
   "metadata": {
    "ExecuteTime": {
     "end_time": "2020-03-31T08:56:23.311463Z",
     "start_time": "2020-03-31T08:56:23.006089Z"
    }
   },
   "outputs": [],
   "source": [
    "import pandas as pd\n",
    "import plotly.graph_objects as go\n",
    "import plotly.io as pio\n",
    "import plotly.express as px\n",
    "# renderer for jupyterlab\n",
    "pio.renderers.default='jupyterlab'\n",
    "# renderer for vs code\n",
    "# pio.renderers.default='vscode'\n",
    "# renderer for colab\n",
    "# pio.renderers.default='colab'\n",
    "pio.templates.default = \"plotly_dark\"\n",
    "import numpy as np\n",
    "import statsmodels.api as sm\n",
    "import datetime\n",
    "from plotly.subplots import make_subplots\n",
    "from ipywidgets import widgets,Layout\n",
    "import warnings\n",
    "warnings.simplefilter(action='ignore')\n",
    "from yellowbrick.regressor import CooksDistance"
   ]
  },
  {
   "cell_type": "code",
   "execution_count": null,
   "metadata": {
    "ExecuteTime": {
     "end_time": "2020-03-31T08:53:46.318660Z",
     "start_time": "2020-03-31T08:53:45.682616Z"
    }
   },
   "outputs": [],
   "source": [
    "rain=pd.read_csv(r'../data/processedfiles/rainfall-by-region.csv')\n",
    "regions=list(rain.columns.values)[5:]\n",
    "years=list(rain['year'].unique())\n",
    "monsoon_list=[i for i in range(150,281)]\n",
    "rain_monsoon=rain[rain['day-number'].isin(monsoon_list)]"
   ]
  },
  {
   "cell_type": "code",
   "execution_count": null,
   "metadata": {
    "ExecuteTime": {
     "end_time": "2020-03-31T08:53:46.381424Z",
     "start_time": "2020-03-31T08:53:46.363823Z"
    }
   },
   "outputs": [],
   "source": [
    "rain=rain.set_index('date',drop=False)"
   ]
  },
  {
   "cell_type": "code",
   "execution_count": null,
   "metadata": {
    "ExecuteTime": {
     "end_time": "2020-03-31T08:53:46.479761Z",
     "start_time": "2020-03-31T08:53:46.385078Z"
    }
   },
   "outputs": [],
   "source": [
    "# rain considered from Day number 150 to 280"
   ]
  },
  {
   "cell_type": "markdown",
   "metadata": {},
   "source": [
    "### Plotting Functions"
   ]
  },
  {
   "cell_type": "code",
   "execution_count": null,
   "metadata": {
    "ExecuteTime": {
     "end_time": "2020-03-31T08:53:47.036681Z",
     "start_time": "2020-03-31T08:53:46.486037Z"
    }
   },
   "outputs": [],
   "source": [
    "# dropdown widget\n",
    "region = widgets.Dropdown(\n",
    "    options=regions,\n",
    "    value=regions[0], description='Region',layout=Layout(margin='20px 20px 20px 20px'))\n",
    "container=widgets.HBox([region])"
   ]
  },
  {
   "cell_type": "code",
   "execution_count": null,
   "metadata": {
    "ExecuteTime": {
     "end_time": "2020-03-31T08:55:12.457408Z",
     "start_time": "2020-03-31T08:55:12.386974Z"
    }
   },
   "outputs": [],
   "source": [
    "def initial_plot(x_axis,df,iterate_list,title,x_axis_title):\n",
    "#     list_type=year\n",
    "    traces=[]\n",
    "    if len(iterate_list)==0:\n",
    "        traces.append(go.Scatter(x=df[x_axis],y=df[regions[0]],name=regions[0]))\n",
    "    else:\n",
    "        for i in iterate_list:\n",
    "            temp = df[df['year'] == i]\n",
    "            traces.append(go.Scatter(x=temp[x_axis],y=temp[regions[0]],name=str(i)))\n",
    "    layout = go.Layout(title=dict(text=title),xaxis=dict(title=x_axis_title,rangeslider=dict(visible=True)),yaxis=dict(title='Rainfall (mm)'))\n",
    "    return go.FigureWidget(data=traces, layout=layout)"
   ]
  },
  {
   "cell_type": "code",
   "execution_count": null,
   "metadata": {
    "ExecuteTime": {
     "end_time": "2020-03-31T08:55:13.722397Z",
     "start_time": "2020-03-31T08:55:13.716520Z"
    }
   },
   "outputs": [],
   "source": [
    "def plot_fig(id_r,title,x_axis,g,data,iterate_list):\n",
    "    var={i.split()[0].lower():i for i  in regions}\n",
    "    id_region=var[id_r]\n",
    "    with g.batch_update():\n",
    "        if len(iterate_list)!=0:\n",
    "            for i in iterate_list:\n",
    "                df = data[data['year'] == i]\n",
    "                g.data[i-1957].y=df[id_region]\n",
    "                g.data[i-1957].name=str(i)\n",
    "                g.data[i-1957].x=df[x_axis]\n",
    "        else:\n",
    "            g.data[0].y=data[id_region]\n",
    "            g.data[0].name=str(title)\n",
    "            g.data[0].x=data[x_axis]"
   ]
  },
  {
   "cell_type": "code",
   "execution_count": null,
   "metadata": {
    "ExecuteTime": {
     "end_time": "2020-03-31T08:55:14.744135Z",
     "start_time": "2020-03-31T08:55:14.737411Z"
    }
   },
   "outputs": [],
   "source": [
    "def response(change):\n",
    "    val=region.value.split()[0].lower()\n",
    "    plot_fig(val,region.value,'day-number',g,rain_monsoon,years)\n",
    "    plot_fig(val,region.value,'month',g_mean_monthly_year,mean_monthly_year,years)\n",
    "    plot_fig(val,region.value,'month',g_median_monthly_year,median_monthly_year,years)\n",
    "    plot_fig(val,region.value,'year',g_mean_yearly,mean_yearly,[])\n",
    "    plot_fig(val,region.value,'year',g_median_yearly,median_yearly,[])\n",
    "    plot_fig(val,region.value,'day-number',g_mean_daily,mean_daily,[])\n",
    "    plot_fig(val,region.value,'day-number',g_median_daily,median_daily,[])\n",
    "    plot_fig(val,region.value,'day-number',g_mean_daily_monsoon,mean_daily_monsoon,[])\n",
    "    plot_fig(val,region.value,'day-number',g_median_daily_monsoon,median_daily_monsoon,[])"
   ]
  },
  {
   "cell_type": "code",
   "execution_count": null,
   "metadata": {
    "ExecuteTime": {
     "end_time": "2020-03-31T08:55:15.677279Z",
     "start_time": "2020-03-31T08:55:15.672462Z"
    }
   },
   "outputs": [],
   "source": [
    "region.observe(response,names='value')"
   ]
  },
  {
   "cell_type": "markdown",
   "metadata": {},
   "source": [
    "### Rain observed in all classification daily basIs (only monsoon time)"
   ]
  },
  {
   "cell_type": "code",
   "execution_count": null,
   "metadata": {
    "ExecuteTime": {
     "end_time": "2020-03-31T08:55:17.926984Z",
     "start_time": "2020-03-31T08:55:16.651895Z"
    }
   },
   "outputs": [],
   "source": [
    "g=initial_plot('day-number',rain_monsoon,years,'Rain observed on daily basis (monsoon time)','Day of year')\n",
    "total_container=widgets.VBox([container,g])\n",
    "display(total_container)"
   ]
  },
  {
   "cell_type": "markdown",
   "metadata": {
    "heading_collapsed": true
   },
   "source": [
    "### Rain Observed in all classification Monthly basis (mean and median)"
   ]
  },
  {
   "cell_type": "code",
   "execution_count": null,
   "metadata": {
    "ExecuteTime": {
     "end_time": "2020-03-29T13:23:22.758850Z",
     "start_time": "2020-03-29T13:23:22.716123Z"
    },
    "hidden": true
   },
   "outputs": [],
   "source": [
    "mean_monthly_year=rain.groupby(['year','month'],as_index=False)[regions].mean()\n",
    "median_monthly_year=rain.groupby(['year','month'],as_index=False)[regions].median()"
   ]
  },
  {
   "cell_type": "code",
   "execution_count": null,
   "metadata": {
    "ExecuteTime": {
     "end_time": "2020-03-29T13:23:32.064499Z",
     "start_time": "2020-03-29T13:23:30.194936Z"
    },
    "hidden": true
   },
   "outputs": [],
   "source": [
    "g_mean_monthly_year=initial_plot('month',mean_monthly_year,years,'Mean rain observed on monthly basis','Month')\n",
    "g_median_monthly_year=initial_plot('month',median_monthly_year,years,'Median rain observed on monthly basis','Month')\n",
    "total_container=widgets.VBox([container,g_mean_monthly_year,g_median_monthly_year])\n",
    "display(total_container)"
   ]
  },
  {
   "cell_type": "markdown",
   "metadata": {
    "heading_collapsed": true
   },
   "source": [
    "### Rain Observed in all classification Yearly basis (mean and median)"
   ]
  },
  {
   "cell_type": "code",
   "execution_count": null,
   "metadata": {
    "ExecuteTime": {
     "end_time": "2020-03-29T13:52:44.012299Z",
     "start_time": "2020-03-29T13:52:43.980651Z"
    },
    "hidden": true
   },
   "outputs": [],
   "source": [
    "mean_yearly=rain.groupby(['year'],as_index=False)[regions].mean()\n",
    "median_yearly=rain.groupby(['year'],as_index=False)[regions].median()"
   ]
  },
  {
   "cell_type": "code",
   "execution_count": null,
   "metadata": {
    "ExecuteTime": {
     "end_time": "2020-03-29T13:52:50.692707Z",
     "start_time": "2020-03-29T13:52:50.302140Z"
    },
    "hidden": true
   },
   "outputs": [],
   "source": [
    "g_mean_yearly=initial_plot('year',mean_yearly,[],'Mean rain observed on yearly basis','Year')\n",
    "g_median_yearly=initial_plot('year',median_yearly,[],'Median rain observed on yearly basis','Year')\n",
    "display(region,g_mean_yearly,g_median_yearly)"
   ]
  },
  {
   "cell_type": "markdown",
   "metadata": {
    "heading_collapsed": true
   },
   "source": [
    "### Rainfall day wise distribution in all classification :full year (mean and median)"
   ]
  },
  {
   "cell_type": "code",
   "execution_count": null,
   "metadata": {
    "ExecuteTime": {
     "end_time": "2020-03-24T09:09:25.321270Z",
     "start_time": "2020-03-24T09:09:25.250905Z"
    },
    "hidden": true
   },
   "outputs": [],
   "source": [
    "mean_daily=rain.groupby(['day-number'],as_index=False)[regions].mean()\n",
    "median_daily=rain.groupby(['day-number'],as_index=False)[regions].median()"
   ]
  },
  {
   "cell_type": "code",
   "execution_count": null,
   "metadata": {
    "ExecuteTime": {
     "end_time": "2020-03-20T08:28:43.887215Z",
     "start_time": "2020-03-20T08:28:43.198020Z"
    },
    "hidden": true
   },
   "outputs": [],
   "source": [
    "g_mean_daily=initial_plot('day-number',mean_daily,[],'Mean distribution of Rainfall','Day of year')\n",
    "g_median_daily=initial_plot('day-number',median_daily,[],'Median distribution of Rainfall','Day of year')\n",
    "display(region,g_mean_daily,g_median_daily)"
   ]
  },
  {
   "cell_type": "markdown",
   "metadata": {
    "heading_collapsed": true
   },
   "source": [
    "### Rainfall day wise distribution in all classification : monsoon time (mean and median)"
   ]
  },
  {
   "cell_type": "code",
   "execution_count": null,
   "metadata": {
    "ExecuteTime": {
     "end_time": "2020-03-20T08:28:49.317643Z",
     "start_time": "2020-03-20T08:28:49.294236Z"
    },
    "hidden": true
   },
   "outputs": [],
   "source": [
    "mean_daily_monsoon=rain_monsoon.groupby(['day-number'],as_index=False)[regions].mean()\n",
    "median_daily_monsoon=rain_monsoon.groupby(['day-number'],as_index=False)[regions].median()"
   ]
  },
  {
   "cell_type": "code",
   "execution_count": null,
   "metadata": {
    "ExecuteTime": {
     "end_time": "2020-03-20T08:28:55.190562Z",
     "start_time": "2020-03-20T08:28:54.611391Z"
    },
    "hidden": true
   },
   "outputs": [],
   "source": [
    "g_mean_daily_monsoon=initial_plot('day-number',mean_daily_monsoon,[],'Mean distribution of Rainfall (monsoon time)','Day of year')\n",
    "g_median_daily_monsoon=initial_plot('day-number',median_daily_monsoon,[],'Median distribution of Rainfall (monsoon time)','Day of year')\n",
    "display(region,g_mean_daily_monsoon,g_median_daily_monsoon)"
   ]
  },
  {
   "cell_type": "markdown",
   "metadata": {},
   "source": [
    "### Outlier calculation in all classification: year/month/daily"
   ]
  },
  {
   "cell_type": "code",
   "execution_count": null,
   "metadata": {
    "ExecuteTime": {
     "end_time": "2020-03-29T14:31:07.266941Z",
     "start_time": "2020-03-29T14:31:05.213009Z"
    }
   },
   "outputs": [],
   "source": [
    "dict_rain_regions = {}\n",
    "dict_rain_monsoon_regions = {}\n",
    "\n",
    "dict_rain_regions_yearly = {}\n",
    "dict_rain_regions_monthly = {}\n",
    "dict_rain_regions_year_monthly = {}\n",
    "\n",
    "dict_rain_monsoon_regions_yearly = {}\n",
    "dict_rain_monsoon_regions_monthly = {}\n",
    "dict_rain_monsoon_regions_year_monthly = {}\n",
    "\n",
    "for i in regions:\n",
    "    dict_rain_regions[i] = rain[['year', 'day-number', 'date', 'month',\n",
    "                                 'day-of-month', i]].dropna(how='any', axis=0).reset_index(drop=True)\n",
    "\n",
    "    dict_rain_monsoon_regions[i] = rain_monsoon[['year', 'day-number',\n",
    "                                                 'date', 'month', 'day-of-month', i]].dropna(how='any', axis=0).reset_index(drop=True)\n",
    "\n",
    "    dict_rain_regions_yearly[i] = dict_rain_regions[i].groupby(\n",
    "        'year', as_index=False)[i].sum()\n",
    "    dict_rain_regions_monthly[i] = dict_rain_regions[i].groupby(\n",
    "        'month', as_index=False)[i].sum()\n",
    "    dict_rain_regions_year_monthly[i] = dict_rain_regions[i].groupby(\n",
    "        ['year', 'month'], as_index=False)[i].sum()\n",
    "    dict_rain_regions_year_monthly[i]['year'] = dict_rain_regions_year_monthly[i]['year'].astype(\n",
    "        str)\n",
    "    dict_rain_regions_year_monthly[i]['month'] = dict_rain_regions_year_monthly[i]['month'].astype(\n",
    "        str)\n",
    "    dict_rain_regions_year_monthly[i]['year'+'-'+'month'] = dict_rain_regions_year_monthly[i]['year'] + \\\n",
    "        '-'+dict_rain_regions_year_monthly[i]['month']\n",
    "\n",
    "    dict_rain_monsoon_regions_yearly[i] = dict_rain_monsoon_regions[i].groupby(\n",
    "        'year', as_index=False)[i].sum()\n",
    "    dict_rain_monsoon_regions_monthly[i] = dict_rain_monsoon_regions[i].groupby(\n",
    "        'month', as_index=False)[i].sum()\n",
    "    dict_rain_monsoon_regions_year_monthly[i] = dict_rain_monsoon_regions[i].groupby(\n",
    "        ['year', 'month'], as_index=False)[i].sum()\n",
    "    dict_rain_monsoon_regions_year_monthly[i]['year'] = dict_rain_monsoon_regions_year_monthly[i]['year'].astype(\n",
    "        str)\n",
    "    dict_rain_monsoon_regions_year_monthly[i]['month'] = dict_rain_monsoon_regions_year_monthly[i]['month'].astype(\n",
    "        str)\n",
    "    dict_rain_monsoon_regions_year_monthly[i]['year'+'-'+'month'] = dict_rain_monsoon_regions_year_monthly[i]['year'] + \\\n",
    "        '-'+dict_rain_monsoon_regions_year_monthly[i]['month']"
   ]
  },
  {
   "cell_type": "markdown",
   "metadata": {},
   "source": [
    "#### Box plot with Dot plot"
   ]
  },
  {
   "cell_type": "code",
   "execution_count": null,
   "metadata": {
    "ExecuteTime": {
     "end_time": "2020-03-29T14:31:27.034356Z",
     "start_time": "2020-03-29T14:31:27.027421Z"
    }
   },
   "outputs": [],
   "source": [
    "# rain_monsoon_year=rain_monsoon_year.replace(0,np.NaN)"
   ]
  },
  {
   "cell_type": "code",
   "execution_count": null,
   "metadata": {
    "ExecuteTime": {
     "end_time": "2020-03-29T14:38:59.489525Z",
     "start_time": "2020-03-29T14:38:59.443413Z"
    }
   },
   "outputs": [],
   "source": [
    "def plot_box_dot(dict_df,x_axis,title1,title2):\n",
    "    fig=go.Figure()\n",
    "    fig2=go.Figure()\n",
    "    for i in regions:\n",
    "        fig.add_trace(go.Box(y=dict_df[i][i],name=i))\n",
    "        fig2.add_trace(go.Scatter(x=dict_df[i][x_axis],y=dict_df[i][i],mode='markers',name=i))\n",
    "    fig.update_layout(title_text=title1,\n",
    "                          xaxis_title='Regions', yaxis_title='Rainfall (mm)',showlegend=False)\n",
    "    fig2.update_layout(title_text=title2,\n",
    "                          xaxis_title=str(x_axis), yaxis_title='Rainfall (mm)')\n",
    "    fig.show()\n",
    "    fig2.show()"
   ]
  },
  {
   "cell_type": "code",
   "execution_count": null,
   "metadata": {
    "ExecuteTime": {
     "end_time": "2020-03-29T14:39:20.133037Z",
     "start_time": "2020-03-29T14:39:19.209646Z"
    }
   },
   "outputs": [],
   "source": [
    "plot_box_dot(dict_rain_regions_yearly,'year','Rainfall distribution of all the regions (yearly)','Year wise rainfall distribution of all the regions')\n",
    "plot_box_dot(dict_rain_regions_monthly,'month','Rainfall distribution of all the regions (cumulative months)','Year wise rainfall distribution of all the regions')\n",
    "plot_box_dot(dict_rain_regions_year_monthly,'year-month','Rainfall distribution of all the regions (monthly)','Year wise rainfall distribution of all the regions')\n",
    "\n",
    "plot_box_dot(dict_rain_monsoon_regions_yearly,'year','Rainfall distribution of all the regions (monsoon)(yearly)','Month wise rainfall distribution of all the regions (monsoon)')\n",
    "plot_box_dot(dict_rain_monsoon_regions_monthly,'month','Rainfall distribution of all the regions (monsoon) (cumulative months)','Cumulative month wise rainfall distribution of all the regions (monsoon)')\n",
    "plot_box_dot(dict_rain_monsoon_regions_year_monthly,'year-month','Rainfall distribution of all the regions (monsoon) (monthly)','Month wise rainfall distribution of all the regions (monsoon)')"
   ]
  },
  {
   "cell_type": "markdown",
   "metadata": {},
   "source": [
    "#### Cook's Distance : Just plotting one region initially"
   ]
  },
  {
   "cell_type": "code",
   "execution_count": null,
   "metadata": {
    "ExecuteTime": {
     "end_time": "2020-03-24T17:31:13.864377Z",
     "start_time": "2020-03-24T17:31:13.857732Z"
    }
   },
   "outputs": [],
   "source": [
    "# rain_monsoon_year.fillna(0,inplace=True)\n",
    "def plot_cooks_distance(dict_df,title):\n",
    "    for i in regions:\n",
    "        print(i,'-',title)\n",
    "        vis=CooksDistance()\n",
    "        vis.fit(dict_df[i].index.to_numpy().reshape(-1,1),dict_df[i][i])\n",
    "        vis.show()\n",
    "        break"
   ]
  },
  {
   "cell_type": "code",
   "execution_count": null,
   "metadata": {
    "ExecuteTime": {
     "end_time": "2020-03-24T17:31:37.112607Z",
     "start_time": "2020-03-24T17:31:30.383938Z"
    }
   },
   "outputs": [],
   "source": [
    "plot_cooks_distance(dict_rain_regions_yearly,'Yearly')\n",
    "plot_cooks_distance(dict_rain_regions_monthly,'Cumulative Months')\n",
    "plot_cooks_distance(dict_rain_regions_year_monthly,'Monthly')\n",
    "\n",
    "plot_cooks_distance(dict_rain_monsoon_regions_yearly,'Yearly')\n",
    "plot_cooks_distance(dict_rain_monsoon_regions_monthly,'Cumulative Months')\n",
    "plot_cooks_distance(dict_rain_monsoon_regions_year_monthly,'Monthly')"
   ]
  },
  {
   "cell_type": "code",
   "execution_count": null,
   "metadata": {},
   "outputs": [],
   "source": []
  }
 ],
 "metadata": {
  "kernelspec": {
   "display_name": "Python 3",
   "language": "python",
   "name": "python3"
  },
  "language_info": {
   "codemirror_mode": {
    "name": "ipython",
    "version": 3
   },
   "file_extension": ".py",
   "mimetype": "text/x-python",
   "name": "python",
   "nbconvert_exporter": "python",
   "pygments_lexer": "ipython3",
   "version": "3.6.10"
  },
  "varInspector": {
   "cols": {
    "lenName": 16,
    "lenType": 16,
    "lenVar": 40
   },
   "kernels_config": {
    "python": {
     "delete_cmd_postfix": "",
     "delete_cmd_prefix": "del ",
     "library": "var_list.py",
     "varRefreshCmd": "print(var_dic_list())"
    },
    "r": {
     "delete_cmd_postfix": ") ",
     "delete_cmd_prefix": "rm(",
     "library": "var_list.r",
     "varRefreshCmd": "cat(var_dic_list()) "
    }
   },
   "types_to_exclude": [
    "module",
    "function",
    "builtin_function_or_method",
    "instance",
    "_Feature"
   ],
   "window_display": false
  }
 },
 "nbformat": 4,
 "nbformat_minor": 4
}
