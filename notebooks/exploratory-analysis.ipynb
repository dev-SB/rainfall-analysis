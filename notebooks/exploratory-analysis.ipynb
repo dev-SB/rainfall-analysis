{
 "cells": [
  {
   "cell_type": "code",
   "execution_count": 19,
   "metadata": {
    "ExecuteTime": {
     "end_time": "2020-03-20T14:12:51.630870Z",
     "start_time": "2020-03-20T14:12:51.509821Z"
    }
   },
   "outputs": [],
   "source": [
    "import pandas as pd\n",
    "import plotly.graph_objects as go\n",
    "import plotly.io as pio\n",
    "import plotly.express as px\n",
    "# renderer for jupyter notebook\n",
    "pio.renderers.default='notebook'\n",
    "# renderer for vs code\n",
    "# pio.renderers.default='vscode'\n",
    "# renderer for colab\n",
    "# pio.renderers.default='colab'\n",
    "pio.templates.default = \"plotly_dark\"\n",
    "import numpy as np\n",
    "import statsmodels.api as sm\n",
    "import datetime\n",
    "from plotly.subplots import make_subplots\n",
    "from ipywidgets import widgets,Layout"
   ]
  },
  {
   "cell_type": "code",
   "execution_count": 20,
   "metadata": {
    "ExecuteTime": {
     "end_time": "2020-03-20T14:12:52.872209Z",
     "start_time": "2020-03-20T14:12:52.740521Z"
    }
   },
   "outputs": [],
   "source": [
    "rain=pd.read_csv(r'../data/processedfiles/rainfall-by-region.csv')\n",
    "rain=rain.set_index('date',drop=False)\n",
    "regions=list(rain.columns.values)[5:]\n",
    "years=list(rain['year'].unique())\n",
    "monsoon_list=[i for i in range(150,281)]\n",
    "rain_monsoon=rain[rain['day-number'].isin(monsoon_list)]"
   ]
  },
  {
   "cell_type": "code",
   "execution_count": 22,
   "metadata": {
    "ExecuteTime": {
     "end_time": "2020-03-20T14:21:01.212033Z",
     "start_time": "2020-03-20T14:21:01.038590Z"
    }
   },
   "outputs": [
    {
     "data": {
      "text/html": [
       "<div>\n",
       "<style scoped>\n",
       "    .dataframe tbody tr th:only-of-type {\n",
       "        vertical-align: middle;\n",
       "    }\n",
       "\n",
       "    .dataframe tbody tr th {\n",
       "        vertical-align: top;\n",
       "    }\n",
       "\n",
       "    .dataframe thead th {\n",
       "        text-align: right;\n",
       "    }\n",
       "</style>\n",
       "<table border=\"1\" class=\"dataframe\">\n",
       "  <thead>\n",
       "    <tr style=\"text-align: right;\">\n",
       "      <th></th>\n",
       "      <th>year</th>\n",
       "      <th>day-number</th>\n",
       "      <th>month</th>\n",
       "      <th>day-of-month</th>\n",
       "      <th>ajmer</th>\n",
       "      <th>alwar</th>\n",
       "      <th>banswara</th>\n",
       "      <th>baran</th>\n",
       "      <th>barmer</th>\n",
       "      <th>bharatpur</th>\n",
       "      <th>...</th>\n",
       "      <th>bwhw</th>\n",
       "      <th>sub humid</th>\n",
       "      <th>humid</th>\n",
       "      <th>very humid</th>\n",
       "      <th>semi arid</th>\n",
       "      <th>arid</th>\n",
       "      <th>daw</th>\n",
       "      <th>caw</th>\n",
       "      <th>ead</th>\n",
       "      <th>dbw</th>\n",
       "    </tr>\n",
       "  </thead>\n",
       "  <tbody>\n",
       "    <tr>\n",
       "      <th>count</th>\n",
       "      <td>7336.000000</td>\n",
       "      <td>7336.000000</td>\n",
       "      <td>7336.000000</td>\n",
       "      <td>7336.000000</td>\n",
       "      <td>6913.000000</td>\n",
       "      <td>7044.000000</td>\n",
       "      <td>7205.000000</td>\n",
       "      <td>2882.000000</td>\n",
       "      <td>5341.000000</td>\n",
       "      <td>6983.000000</td>\n",
       "      <td>...</td>\n",
       "      <td>7205.000000</td>\n",
       "      <td>7336.000000</td>\n",
       "      <td>7336.000000</td>\n",
       "      <td>7205.000000</td>\n",
       "      <td>7336.000000</td>\n",
       "      <td>7205.000000</td>\n",
       "      <td>7336.000000</td>\n",
       "      <td>7336.000000</td>\n",
       "      <td>7205.000000</td>\n",
       "      <td>7336.000000</td>\n",
       "    </tr>\n",
       "    <tr>\n",
       "      <th>mean</th>\n",
       "      <td>1984.500000</td>\n",
       "      <td>215.000000</td>\n",
       "      <td>7.585878</td>\n",
       "      <td>15.393130</td>\n",
       "      <td>3.170305</td>\n",
       "      <td>4.284553</td>\n",
       "      <td>6.295732</td>\n",
       "      <td>6.409993</td>\n",
       "      <td>1.854705</td>\n",
       "      <td>4.580195</td>\n",
       "      <td>...</td>\n",
       "      <td>1.504026</td>\n",
       "      <td>3.836465</td>\n",
       "      <td>4.749433</td>\n",
       "      <td>5.935306</td>\n",
       "      <td>2.408800</td>\n",
       "      <td>1.330143</td>\n",
       "      <td>3.982373</td>\n",
       "      <td>5.314712</td>\n",
       "      <td>1.262969</td>\n",
       "      <td>2.020523</td>\n",
       "    </tr>\n",
       "    <tr>\n",
       "      <th>std</th>\n",
       "      <td>16.164332</td>\n",
       "      <td>37.817918</td>\n",
       "      <td>1.253429</td>\n",
       "      <td>9.122675</td>\n",
       "      <td>9.009780</td>\n",
       "      <td>12.360609</td>\n",
       "      <td>18.314432</td>\n",
       "      <td>16.031992</td>\n",
       "      <td>7.182644</td>\n",
       "      <td>12.463321</td>\n",
       "      <td>...</td>\n",
       "      <td>3.647293</td>\n",
       "      <td>6.829266</td>\n",
       "      <td>7.685004</td>\n",
       "      <td>13.655623</td>\n",
       "      <td>4.704857</td>\n",
       "      <td>3.890235</td>\n",
       "      <td>6.256164</td>\n",
       "      <td>11.278600</td>\n",
       "      <td>4.710337</td>\n",
       "      <td>4.635832</td>\n",
       "    </tr>\n",
       "    <tr>\n",
       "      <th>min</th>\n",
       "      <td>1957.000000</td>\n",
       "      <td>150.000000</td>\n",
       "      <td>5.000000</td>\n",
       "      <td>1.000000</td>\n",
       "      <td>0.000000</td>\n",
       "      <td>0.000000</td>\n",
       "      <td>0.000000</td>\n",
       "      <td>0.000000</td>\n",
       "      <td>0.000000</td>\n",
       "      <td>0.000000</td>\n",
       "      <td>...</td>\n",
       "      <td>0.000000</td>\n",
       "      <td>0.000000</td>\n",
       "      <td>0.000000</td>\n",
       "      <td>0.000000</td>\n",
       "      <td>0.000000</td>\n",
       "      <td>0.000000</td>\n",
       "      <td>0.000000</td>\n",
       "      <td>0.000000</td>\n",
       "      <td>0.000000</td>\n",
       "      <td>0.000000</td>\n",
       "    </tr>\n",
       "    <tr>\n",
       "      <th>25%</th>\n",
       "      <td>1970.750000</td>\n",
       "      <td>182.000000</td>\n",
       "      <td>7.000000</td>\n",
       "      <td>7.000000</td>\n",
       "      <td>0.000000</td>\n",
       "      <td>0.000000</td>\n",
       "      <td>0.000000</td>\n",
       "      <td>0.000000</td>\n",
       "      <td>0.000000</td>\n",
       "      <td>0.000000</td>\n",
       "      <td>...</td>\n",
       "      <td>0.000000</td>\n",
       "      <td>0.000000</td>\n",
       "      <td>0.070000</td>\n",
       "      <td>0.000000</td>\n",
       "      <td>0.000000</td>\n",
       "      <td>0.000000</td>\n",
       "      <td>0.080000</td>\n",
       "      <td>0.000000</td>\n",
       "      <td>0.000000</td>\n",
       "      <td>0.000000</td>\n",
       "    </tr>\n",
       "    <tr>\n",
       "      <th>50%</th>\n",
       "      <td>1984.500000</td>\n",
       "      <td>215.000000</td>\n",
       "      <td>8.000000</td>\n",
       "      <td>15.000000</td>\n",
       "      <td>0.000000</td>\n",
       "      <td>0.000000</td>\n",
       "      <td>0.000000</td>\n",
       "      <td>0.000000</td>\n",
       "      <td>0.000000</td>\n",
       "      <td>0.000000</td>\n",
       "      <td>...</td>\n",
       "      <td>0.000000</td>\n",
       "      <td>0.865000</td>\n",
       "      <td>1.470000</td>\n",
       "      <td>0.110000</td>\n",
       "      <td>0.350000</td>\n",
       "      <td>0.000000</td>\n",
       "      <td>1.230000</td>\n",
       "      <td>0.840000</td>\n",
       "      <td>0.000000</td>\n",
       "      <td>0.000000</td>\n",
       "    </tr>\n",
       "    <tr>\n",
       "      <th>75%</th>\n",
       "      <td>1998.250000</td>\n",
       "      <td>248.000000</td>\n",
       "      <td>9.000000</td>\n",
       "      <td>23.000000</td>\n",
       "      <td>2.260000</td>\n",
       "      <td>2.695000</td>\n",
       "      <td>4.000000</td>\n",
       "      <td>6.015000</td>\n",
       "      <td>0.000000</td>\n",
       "      <td>3.000000</td>\n",
       "      <td>...</td>\n",
       "      <td>1.210000</td>\n",
       "      <td>4.750000</td>\n",
       "      <td>6.172500</td>\n",
       "      <td>5.830000</td>\n",
       "      <td>2.722500</td>\n",
       "      <td>0.650000</td>\n",
       "      <td>5.260000</td>\n",
       "      <td>5.592500</td>\n",
       "      <td>0.000000</td>\n",
       "      <td>1.830000</td>\n",
       "    </tr>\n",
       "    <tr>\n",
       "      <th>max</th>\n",
       "      <td>2012.000000</td>\n",
       "      <td>280.000000</td>\n",
       "      <td>10.000000</td>\n",
       "      <td>31.000000</td>\n",
       "      <td>294.000000</td>\n",
       "      <td>282.500000</td>\n",
       "      <td>363.000000</td>\n",
       "      <td>202.000000</td>\n",
       "      <td>185.000000</td>\n",
       "      <td>235.000000</td>\n",
       "      <td>...</td>\n",
       "      <td>53.740000</td>\n",
       "      <td>86.020000</td>\n",
       "      <td>83.060000</td>\n",
       "      <td>219.450000</td>\n",
       "      <td>51.320000</td>\n",
       "      <td>72.000000</td>\n",
       "      <td>59.140000</td>\n",
       "      <td>154.840000</td>\n",
       "      <td>101.570000</td>\n",
       "      <td>60.900000</td>\n",
       "    </tr>\n",
       "  </tbody>\n",
       "</table>\n",
       "<p>8 rows × 49 columns</p>\n",
       "</div>"
      ],
      "text/plain": [
       "              year   day-number        month  day-of-month        ajmer  \\\n",
       "count  7336.000000  7336.000000  7336.000000   7336.000000  6913.000000   \n",
       "mean   1984.500000   215.000000     7.585878     15.393130     3.170305   \n",
       "std      16.164332    37.817918     1.253429      9.122675     9.009780   \n",
       "min    1957.000000   150.000000     5.000000      1.000000     0.000000   \n",
       "25%    1970.750000   182.000000     7.000000      7.000000     0.000000   \n",
       "50%    1984.500000   215.000000     8.000000     15.000000     0.000000   \n",
       "75%    1998.250000   248.000000     9.000000     23.000000     2.260000   \n",
       "max    2012.000000   280.000000    10.000000     31.000000   294.000000   \n",
       "\n",
       "             alwar     banswara        baran       barmer    bharatpur  ...  \\\n",
       "count  7044.000000  7205.000000  2882.000000  5341.000000  6983.000000  ...   \n",
       "mean      4.284553     6.295732     6.409993     1.854705     4.580195  ...   \n",
       "std      12.360609    18.314432    16.031992     7.182644    12.463321  ...   \n",
       "min       0.000000     0.000000     0.000000     0.000000     0.000000  ...   \n",
       "25%       0.000000     0.000000     0.000000     0.000000     0.000000  ...   \n",
       "50%       0.000000     0.000000     0.000000     0.000000     0.000000  ...   \n",
       "75%       2.695000     4.000000     6.015000     0.000000     3.000000  ...   \n",
       "max     282.500000   363.000000   202.000000   185.000000   235.000000  ...   \n",
       "\n",
       "              bwhw    sub humid        humid   very humid    semi arid  \\\n",
       "count  7205.000000  7336.000000  7336.000000  7205.000000  7336.000000   \n",
       "mean      1.504026     3.836465     4.749433     5.935306     2.408800   \n",
       "std       3.647293     6.829266     7.685004    13.655623     4.704857   \n",
       "min       0.000000     0.000000     0.000000     0.000000     0.000000   \n",
       "25%       0.000000     0.000000     0.070000     0.000000     0.000000   \n",
       "50%       0.000000     0.865000     1.470000     0.110000     0.350000   \n",
       "75%       1.210000     4.750000     6.172500     5.830000     2.722500   \n",
       "max      53.740000    86.020000    83.060000   219.450000    51.320000   \n",
       "\n",
       "              arid          daw          caw          ead          dbw  \n",
       "count  7205.000000  7336.000000  7336.000000  7205.000000  7336.000000  \n",
       "mean      1.330143     3.982373     5.314712     1.262969     2.020523  \n",
       "std       3.890235     6.256164    11.278600     4.710337     4.635832  \n",
       "min       0.000000     0.000000     0.000000     0.000000     0.000000  \n",
       "25%       0.000000     0.080000     0.000000     0.000000     0.000000  \n",
       "50%       0.000000     1.230000     0.840000     0.000000     0.000000  \n",
       "75%       0.650000     5.260000     5.592500     0.000000     1.830000  \n",
       "max      72.000000    59.140000   154.840000   101.570000    60.900000  \n",
       "\n",
       "[8 rows x 49 columns]"
      ]
     },
     "execution_count": 22,
     "metadata": {},
     "output_type": "execute_result"
    }
   ],
   "source": [
    "rain_monsoon.describe()"
   ]
  },
  {
   "cell_type": "code",
   "execution_count": 3,
   "metadata": {
    "ExecuteTime": {
     "end_time": "2020-03-20T08:27:56.188312Z",
     "start_time": "2020-03-20T08:27:56.183256Z"
    }
   },
   "outputs": [],
   "source": [
    "# rain considered from Day number 150 to 280"
   ]
  },
  {
   "cell_type": "markdown",
   "metadata": {},
   "source": [
    "### Plotting Functions"
   ]
  },
  {
   "cell_type": "code",
   "execution_count": 5,
   "metadata": {
    "ExecuteTime": {
     "end_time": "2020-03-20T08:27:57.200685Z",
     "start_time": "2020-03-20T08:27:57.172230Z"
    }
   },
   "outputs": [],
   "source": [
    "# dropdown widget\n",
    "region = widgets.Dropdown(\n",
    "    options=regions,\n",
    "    value=regions[0], description='Region',layout=Layout(margin='20px 20px 20px 20px'))\n",
    "container=widgets.HBox([region])"
   ]
  },
  {
   "cell_type": "code",
   "execution_count": 6,
   "metadata": {
    "ExecuteTime": {
     "end_time": "2020-03-20T08:27:57.736699Z",
     "start_time": "2020-03-20T08:27:57.722019Z"
    }
   },
   "outputs": [],
   "source": [
    "def plot_fig(id_r,title,x_axis,g,data,iterate_list):\n",
    "    var={i.split()[0].lower():i for i  in regions}\n",
    "    id_region=var[id_r]\n",
    "    with g.batch_update():\n",
    "        if len(iterate_list)!=0:\n",
    "            for i in iterate_list:\n",
    "                df = data[data['year'] == i]\n",
    "                g.data[i-1957].y=df[id_region]\n",
    "                g.data[i-1957].name=str(i)\n",
    "                g.data[i-1957].x=df[x_axis]\n",
    "        else:\n",
    "            g.data[0].y=data[id_region]\n",
    "            g.data[0].name=str(title)\n",
    "            g.data[0].x=data[x_axis]"
   ]
  },
  {
   "cell_type": "code",
   "execution_count": 7,
   "metadata": {
    "ExecuteTime": {
     "end_time": "2020-03-20T08:27:58.212321Z",
     "start_time": "2020-03-20T08:27:58.202569Z"
    }
   },
   "outputs": [],
   "source": [
    "def initial_plot(x_axis,df,iterate_list,title,x_axis_title):\n",
    "#     list_type=year\n",
    "    traces=[]\n",
    "    if len(iterate_list)==0:\n",
    "        traces.append(go.Scatter(x=df[x_axis],y=df[regions[0]],name=regions[0]))\n",
    "    else:\n",
    "        for i in iterate_list:\n",
    "            temp = df[df['year'] == i]\n",
    "            traces.append(go.Scatter(x=temp[x_axis],y=temp[regions[0]],name=str(i)))\n",
    "    layout = go.Layout(title=dict(text=title),xaxis=dict(title=x_axis_title,rangeslider=dict(visible=True)),yaxis=dict(title='Rainfall (inch)'))\n",
    "    go.Layout()\n",
    "    return go.FigureWidget(data=traces, layout=layout)"
   ]
  },
  {
   "cell_type": "code",
   "execution_count": 8,
   "metadata": {
    "ExecuteTime": {
     "end_time": "2020-03-20T08:27:58.700820Z",
     "start_time": "2020-03-20T08:27:58.695070Z"
    }
   },
   "outputs": [],
   "source": [
    "def response(change):\n",
    "    val=region.value.split()[0].lower()\n",
    "    plot_fig(val,region.value,'day-number',g,rain_monsoon,years)\n",
    "    plot_fig(val,region.value,'month',g_mean_monthly_year,mean_monthly_year,years)\n",
    "    plot_fig(val,region.value,'month',g_median_monthly_year,median_monthly_year,years)\n",
    "    plot_fig(val,region.value,'year',g_mean_yearly,mean_yearly,[])\n",
    "    plot_fig(val,region.value,'year',g_median_yearly,median_yearly,[])\n",
    "    plot_fig(val,region.value,'day-number',g_mean_daily,mean_daily,[])\n",
    "    plot_fig(val,region.value,'day-number',g_median_daily,median_daily,[])\n",
    "    plot_fig(val,region.value,'day-number',g_mean_daily_monsoon,mean_daily_monsoon,[])\n",
    "    plot_fig(val,region.value,'day-number',g_median_daily_monsoon,median_daily_monsoon,[])"
   ]
  },
  {
   "cell_type": "code",
   "execution_count": 9,
   "metadata": {
    "ExecuteTime": {
     "end_time": "2020-03-20T08:27:59.285946Z",
     "start_time": "2020-03-20T08:27:59.273001Z"
    }
   },
   "outputs": [],
   "source": [
    "region.observe(response,names='value')"
   ]
  },
  {
   "cell_type": "markdown",
   "metadata": {
    "heading_collapsed": true
   },
   "source": [
    "### Rain observed in all classification daily basIs (only monsoon time)"
   ]
  },
  {
   "cell_type": "code",
   "execution_count": 10,
   "metadata": {
    "ExecuteTime": {
     "end_time": "2020-03-20T08:28:01.800416Z",
     "start_time": "2020-03-20T08:28:00.364329Z"
    },
    "hidden": true
   },
   "outputs": [
    {
     "data": {
      "application/vnd.jupyter.widget-view+json": {
       "model_id": "98dce318190248758c12886b4c25f6bd",
       "version_major": 2,
       "version_minor": 0
      },
      "text/plain": [
       "VBox(children=(HBox(children=(Dropdown(description='Region', layout=Layout(margin='20px 20px 20px 20px'), opti…"
      ]
     },
     "metadata": {},
     "output_type": "display_data"
    }
   ],
   "source": [
    "g=initial_plot('day-number',rain_monsoon,years,'Rain observed on daily basis (monsoon time)','Date of year')\n",
    "total_container=widgets.VBox([container,g])\n",
    "display(total_container)"
   ]
  },
  {
   "cell_type": "markdown",
   "metadata": {
    "heading_collapsed": true
   },
   "source": [
    "### Rain Observed in all classification Monthly basis (mean and median)"
   ]
  },
  {
   "cell_type": "code",
   "execution_count": 11,
   "metadata": {
    "ExecuteTime": {
     "end_time": "2020-03-20T08:28:07.822339Z",
     "start_time": "2020-03-20T08:28:07.773752Z"
    },
    "hidden": true
   },
   "outputs": [],
   "source": [
    "mean_monthly_year=rain.groupby(['year','month'],as_index=False)[regions].mean()\n",
    "median_monthly_year=rain.groupby(['year','month'],as_index=False)[regions].median()"
   ]
  },
  {
   "cell_type": "code",
   "execution_count": 12,
   "metadata": {
    "ExecuteTime": {
     "end_time": "2020-03-20T08:28:14.892132Z",
     "start_time": "2020-03-20T08:28:12.902194Z"
    },
    "hidden": true
   },
   "outputs": [
    {
     "data": {
      "application/vnd.jupyter.widget-view+json": {
       "model_id": "4d4e31dd8138431989756530c1c9dd89",
       "version_major": 2,
       "version_minor": 0
      },
      "text/plain": [
       "VBox(children=(HBox(children=(Dropdown(description='Region', layout=Layout(margin='20px 20px 20px 20px'), opti…"
      ]
     },
     "metadata": {},
     "output_type": "display_data"
    }
   ],
   "source": [
    "g_mean_monthly_year=initial_plot('month',mean_monthly_year,years,'Mean rain observed on monthly basis','Month')\n",
    "g_median_monthly_year=initial_plot('month',median_monthly_year,years,'Median rain observed on monthly basis','Month')\n",
    "total_container=widgets.VBox([container,g_mean_monthly_year,g_median_monthly_year])\n",
    "display(total_container)"
   ]
  },
  {
   "cell_type": "markdown",
   "metadata": {
    "heading_collapsed": true
   },
   "source": [
    "### Rain Observed in all classification Yearly basis (mean and median)"
   ]
  },
  {
   "cell_type": "code",
   "execution_count": 13,
   "metadata": {
    "ExecuteTime": {
     "end_time": "2020-03-20T08:28:21.247013Z",
     "start_time": "2020-03-20T08:28:21.204706Z"
    },
    "hidden": true
   },
   "outputs": [],
   "source": [
    "mean_yearly=rain.groupby(['year'],as_index=False)[regions].mean()\n",
    "median_yearly=rain.groupby(['year'],as_index=False)[regions].median()"
   ]
  },
  {
   "cell_type": "code",
   "execution_count": 14,
   "metadata": {
    "ExecuteTime": {
     "end_time": "2020-03-20T08:28:29.037026Z",
     "start_time": "2020-03-20T08:28:28.127781Z"
    },
    "hidden": true
   },
   "outputs": [
    {
     "data": {
      "application/vnd.jupyter.widget-view+json": {
       "model_id": "75d2469f14ae4c639379432ba87e0333",
       "version_major": 2,
       "version_minor": 0
      },
      "text/plain": [
       "Dropdown(description='Region', layout=Layout(margin='20px 20px 20px 20px'), options=('ajmer', 'alwar', 'banswa…"
      ]
     },
     "metadata": {},
     "output_type": "display_data"
    },
    {
     "data": {
      "application/vnd.jupyter.widget-view+json": {
       "model_id": "b5a1e2e88b8e414ab4172b5e45185e5a",
       "version_major": 2,
       "version_minor": 0
      },
      "text/plain": [
       "FigureWidget({\n",
       "    'data': [{'name': 'ajmer',\n",
       "              'type': 'scatter',\n",
       "              'uid': 'c8202664-…"
      ]
     },
     "metadata": {},
     "output_type": "display_data"
    },
    {
     "data": {
      "application/vnd.jupyter.widget-view+json": {
       "model_id": "7589a4e72ef1496bb345d101872266ec",
       "version_major": 2,
       "version_minor": 0
      },
      "text/plain": [
       "FigureWidget({\n",
       "    'data': [{'name': 'ajmer',\n",
       "              'type': 'scatter',\n",
       "              'uid': 'fff38b94-…"
      ]
     },
     "metadata": {},
     "output_type": "display_data"
    }
   ],
   "source": [
    "g_mean_yearly=initial_plot('year',mean_yearly,[],'Mean rain observed on yearly basis','Year')\n",
    "g_median_yearly=initial_plot('year',median_yearly,[],'Median rain observed on yearly basis','Year')\n",
    "display(region,g_mean_yearly,g_median_yearly)"
   ]
  },
  {
   "cell_type": "markdown",
   "metadata": {
    "heading_collapsed": true
   },
   "source": [
    "### Rainfall day wise distribution in all classification :full year (mean and median)"
   ]
  },
  {
   "cell_type": "code",
   "execution_count": 15,
   "metadata": {
    "ExecuteTime": {
     "end_time": "2020-03-20T08:28:35.708296Z",
     "start_time": "2020-03-20T08:28:35.663392Z"
    },
    "hidden": true
   },
   "outputs": [],
   "source": [
    "mean_daily=rain.groupby(['day-number'],as_index=False)[regions].mean()\n",
    "median_daily=rain.groupby(['day-number'],as_index=False)[regions].median()"
   ]
  },
  {
   "cell_type": "code",
   "execution_count": 16,
   "metadata": {
    "ExecuteTime": {
     "end_time": "2020-03-20T08:28:43.887215Z",
     "start_time": "2020-03-20T08:28:43.198020Z"
    },
    "hidden": true
   },
   "outputs": [
    {
     "data": {
      "application/vnd.jupyter.widget-view+json": {
       "model_id": "75d2469f14ae4c639379432ba87e0333",
       "version_major": 2,
       "version_minor": 0
      },
      "text/plain": [
       "Dropdown(description='Region', layout=Layout(margin='20px 20px 20px 20px'), options=('ajmer', 'alwar', 'banswa…"
      ]
     },
     "metadata": {},
     "output_type": "display_data"
    },
    {
     "data": {
      "application/vnd.jupyter.widget-view+json": {
       "model_id": "2ee58e6d3223469bae9f7baed2c693d3",
       "version_major": 2,
       "version_minor": 0
      },
      "text/plain": [
       "FigureWidget({\n",
       "    'data': [{'name': 'ajmer',\n",
       "              'type': 'scatter',\n",
       "              'uid': 'd908a258-…"
      ]
     },
     "metadata": {},
     "output_type": "display_data"
    },
    {
     "data": {
      "application/vnd.jupyter.widget-view+json": {
       "model_id": "803ea59f69a34959a59c102d63647175",
       "version_major": 2,
       "version_minor": 0
      },
      "text/plain": [
       "FigureWidget({\n",
       "    'data': [{'name': 'ajmer',\n",
       "              'type': 'scatter',\n",
       "              'uid': '75b5c3df-…"
      ]
     },
     "metadata": {},
     "output_type": "display_data"
    }
   ],
   "source": [
    "g_mean_daily=initial_plot('day-number',mean_daily,[],'Mean distribution of Rainfall','Day of year')\n",
    "g_median_daily=initial_plot('day-number',median_daily,[],'Median distribution of Rainfall','Day of year')\n",
    "display(region,g_mean_daily,g_median_daily)"
   ]
  },
  {
   "cell_type": "markdown",
   "metadata": {
    "heading_collapsed": true
   },
   "source": [
    "### Rainfall day wise distribution in all classification : monsoon time (mean and median)"
   ]
  },
  {
   "cell_type": "code",
   "execution_count": 17,
   "metadata": {
    "ExecuteTime": {
     "end_time": "2020-03-20T08:28:49.317643Z",
     "start_time": "2020-03-20T08:28:49.294236Z"
    },
    "hidden": true
   },
   "outputs": [],
   "source": [
    "mean_daily_monsoon=rain_monsoon.groupby(['day-number'],as_index=False)[regions].mean()\n",
    "median_daily_monsoon=rain_monsoon.groupby(['day-number'],as_index=False)[regions].median()"
   ]
  },
  {
   "cell_type": "code",
   "execution_count": 18,
   "metadata": {
    "ExecuteTime": {
     "end_time": "2020-03-20T08:28:55.190562Z",
     "start_time": "2020-03-20T08:28:54.611391Z"
    },
    "hidden": true
   },
   "outputs": [
    {
     "data": {
      "application/vnd.jupyter.widget-view+json": {
       "model_id": "75d2469f14ae4c639379432ba87e0333",
       "version_major": 2,
       "version_minor": 0
      },
      "text/plain": [
       "Dropdown(description='Region', layout=Layout(margin='20px 20px 20px 20px'), options=('ajmer', 'alwar', 'banswa…"
      ]
     },
     "metadata": {},
     "output_type": "display_data"
    },
    {
     "data": {
      "application/vnd.jupyter.widget-view+json": {
       "model_id": "3e97430f96bf4565aa65b5feae73b30b",
       "version_major": 2,
       "version_minor": 0
      },
      "text/plain": [
       "FigureWidget({\n",
       "    'data': [{'name': 'ajmer',\n",
       "              'type': 'scatter',\n",
       "              'uid': '33f26448-…"
      ]
     },
     "metadata": {},
     "output_type": "display_data"
    },
    {
     "data": {
      "application/vnd.jupyter.widget-view+json": {
       "model_id": "97c35aa330f14d57988503fe7e8c8c19",
       "version_major": 2,
       "version_minor": 0
      },
      "text/plain": [
       "FigureWidget({\n",
       "    'data': [{'name': 'ajmer',\n",
       "              'type': 'scatter',\n",
       "              'uid': 'e94d7bcf-…"
      ]
     },
     "metadata": {},
     "output_type": "display_data"
    }
   ],
   "source": [
    "g_mean_daily_monsoon=initial_plot('day-number',mean_daily_monsoon,[],'Mean distribution of Rainfall (monsoon time)','Day of year')\n",
    "g_median_daily_monsoon=initial_plot('day-number',median_daily_monsoon,[],'Median distribution of Rainfall (monsoon time)','Day of year')\n",
    "display(region,g_mean_daily_monsoon,g_median_daily_monsoon)"
   ]
  },
  {
   "cell_type": "markdown",
   "metadata": {
    "heading_collapsed": true
   },
   "source": [
    "### Outlier calculation in all classification: year/month/daily"
   ]
  },
  {
   "cell_type": "code",
   "execution_count": null,
   "metadata": {
    "hidden": true
   },
   "outputs": [],
   "source": []
  }
 ],
 "metadata": {
  "kernelspec": {
   "display_name": "Python 3",
   "language": "python",
   "name": "python3"
  },
  "language_info": {
   "codemirror_mode": {
    "name": "ipython",
    "version": 3
   },
   "file_extension": ".py",
   "mimetype": "text/x-python",
   "name": "python",
   "nbconvert_exporter": "python",
   "pygments_lexer": "ipython3",
   "version": "3.6.10"
  },
  "varInspector": {
   "cols": {
    "lenName": 16,
    "lenType": 16,
    "lenVar": 40
   },
   "kernels_config": {
    "python": {
     "delete_cmd_postfix": "",
     "delete_cmd_prefix": "del ",
     "library": "var_list.py",
     "varRefreshCmd": "print(var_dic_list())"
    },
    "r": {
     "delete_cmd_postfix": ") ",
     "delete_cmd_prefix": "rm(",
     "library": "var_list.r",
     "varRefreshCmd": "cat(var_dic_list()) "
    }
   },
   "types_to_exclude": [
    "module",
    "function",
    "builtin_function_or_method",
    "instance",
    "_Feature"
   ],
   "window_display": false
  }
 },
 "nbformat": 4,
 "nbformat_minor": 4
}
