{
 "cells": [
  {
   "cell_type": "code",
   "execution_count": 28,
   "metadata": {
    "ExecuteTime": {
     "end_time": "2020-03-30T09:11:12.791418Z",
     "start_time": "2020-03-30T09:11:11.192139Z"
    }
   },
<<<<<<< HEAD
   "outputs": [
    {
     "name": "stderr",
     "output_type": "stream",
     "text": [
      "C:\\Users\\prajj\\AppData\\Roaming\\Python\\Python37\\site-packages\\sklearn\\utils\\deprecation.py:144: FutureWarning: The sklearn.metrics.classification module is  deprecated in version 0.22 and will be removed in version 0.24. The corresponding classes / functions should instead be imported from sklearn.metrics. Anything that cannot be imported from sklearn.metrics is now part of the private API.\n",
      "  warnings.warn(message, FutureWarning)\n"
     ]
    }
   ],
=======
   "outputs": [],
>>>>>>> 00fec5a77e4493b563dbfea0ea02270f3c8f6b8f
   "source": [
    "from ipywidgets import widgets, Layout\n",
    "import os\n",
    "from yellowbrick.regressor import CooksDistance\n",
    "import warnings\n",
    "from plotly.subplots import make_subplots\n",
    "import datetime\n",
    "import statsmodels.api as sm\n",
    "import numpy as np\n",
    "import pandas as pd\n",
    "import plotly.graph_objects as go\n",
    "import plotly.io as pio\n",
    "import plotly.express as px\n",
    "# renderer for jupyter notebook\n",
    "pio.renderers.default = 'notebook'\n",
    "# renderer for vs code\n",
    "# pio.renderers.default='vscode'\n",
    "# renderer for colab\n",
    "# pio.renderers.default='colab'\n",
    "pio.templates.default = \"plotly_dark\"\n",
    "warnings.simplefilter(action='ignore')\n",
    "import matplotlib.pyplot as plt\n",
    "plt.style.use('fivethirtyeight')\n",
    "import itertools"
   ]
  },
  {
   "cell_type": "code",
   "execution_count": 2,
   "metadata": {
    "ExecuteTime": {
     "end_time": "2020-03-30T09:11:15.068796Z",
     "start_time": "2020-03-30T09:11:14.851595Z"
    }
   },
   "outputs": [],
   "source": [
    "rain = pd.read_csv(r'../data/processedfiles/rainfall-by-region.csv')\n",
    "regions = list(rain.columns.values)[5:]\n",
    "years = list(rain['year'].unique())\n",
    "monsoon_list = [i for i in range(150, 281)]\n",
    "rain_monsoon = rain[rain['day-number'].isin(monsoon_list)]"
   ]
  },
  {
   "cell_type": "code",
   "execution_count": 3,
   "metadata": {
    "ExecuteTime": {
     "end_time": "2020-03-30T09:11:17.017671Z",
     "start_time": "2020-03-30T09:11:17.012356Z"
    }
   },
   "outputs": [],
   "source": [
    "rain = rain.set_index('date', drop=False)"
   ]
  },
  {
   "cell_type": "code",
   "execution_count": 4,
   "metadata": {
    "ExecuteTime": {
     "end_time": "2020-03-30T08:18:43.061301Z",
     "start_time": "2020-03-30T08:18:42.936380Z"
    }
   },
   "outputs": [],
   "source": [
    "# rain considered from Day number 150 to 280"
   ]
  },
  {
   "cell_type": "markdown",
   "metadata": {},
   "source": [
    "### Plotting Functions"
   ]
  },
  {
   "cell_type": "code",
   "execution_count": 5,
   "metadata": {},
   "outputs": [],
   "source": [
    "# dropdown widget\n",
    "region = widgets.Dropdown(\n",
    "    options=regions,\n",
    "    value=regions[0], description='Region',layout=Layout(margin='20px 20px 20px 20px'))\n",
    "container=widgets.HBox([region])"
   ]
  },
  {
   "cell_type": "code",
   "execution_count": 6,
   "metadata": {},
   "outputs": [],
   "source": [
    "def initial_plot(x_axis,df,iterate_list,title,x_axis_title):\n",
    "#     list_type=year\n",
    "    traces=[]\n",
    "    if len(iterate_list)==0:\n",
    "        traces.append(go.Scatter(x=df[x_axis],y=df[regions[0]],name=regions[0]))\n",
    "    else:\n",
    "        for i in iterate_list:\n",
    "            temp = df[df['year'] == i]\n",
    "            traces.append(go.Scatter(x=temp[x_axis],y=temp[regions[0]],name=str(i)))\n",
    "    layout = go.Layout(title=dict(text=title),xaxis=dict(title=x_axis_title,rangeslider=dict(visible=True)),yaxis=dict(title='Rainfall (mm)'))\n",
    "    return go.FigureWidget(data=traces, layout=layout)"
   ]
  },
  {
   "cell_type": "code",
   "execution_count": 7,
   "metadata": {},
   "outputs": [],
   "source": [
    "def plot_fig(id_r,title,x_axis,g,data,iterate_list):\n",
    "    var={i.split()[0].lower():i for i  in regions}\n",
    "    id_region=var[id_r]\n",
    "    with g.batch_update():\n",
    "        if len(iterate_list)!=0:\n",
    "            for i in iterate_list:\n",
    "                df = data[data['year'] == i]\n",
    "                g.data[i-1957].y=df[id_region]\n",
    "                g.data[i-1957].name=str(i)\n",
    "                g.data[i-1957].x=df[x_axis]\n",
    "        else:\n",
    "            g.data[0].y=data[id_region]\n",
    "            g.data[0].name=str(title)\n",
    "            g.data[0].x=data[x_axis]"
   ]
  },
  {
   "cell_type": "code",
   "execution_count": 8,
   "metadata": {},
   "outputs": [],
   "source": [
    "def response(change):\n",
    "    val=region.value.split()[0].lower()\n",
    "    plot_fig(val,region.value,'day-number',g,rain_monsoon,years)\n",
    "    plot_fig(val,region.value,'month',g_mean_monthly_year,mean_monthly_year,years)\n",
    "    plot_fig(val,region.value,'month',g_median_monthly_year,median_monthly_year,years)\n",
    "    plot_fig(val,region.value,'year',g_mean_yearly,mean_yearly,[])\n",
    "    plot_fig(val,region.value,'year',g_median_yearly,median_yearly,[])\n",
    "    plot_fig(val,region.value,'day-number',g_mean_daily,mean_daily,[])\n",
    "    plot_fig(val,region.value,'day-number',g_median_daily,median_daily,[])\n",
    "    plot_fig(val,region.value,'day-number',g_mean_daily_monsoon,mean_daily_monsoon,[])\n",
    "    plot_fig(val,region.value,'day-number',g_median_daily_monsoon,median_daily_monsoon,[])"
   ]
  },
  {
   "cell_type": "code",
   "execution_count": 9,
   "metadata": {},
   "outputs": [],
   "source": [
    "region.observe(response,names='value')"
   ]
  },
  {
   "cell_type": "markdown",
<<<<<<< HEAD
   "metadata": {},
   "source": [
    "## MEAN AND MEDIAN"
   ]
  },
  {
   "cell_type": "code",
   "execution_count": 29,
   "metadata": {},
   "outputs": [
    {
     "data": {
      "text/plain": [
       "year                  0\n",
       "day-number            0\n",
       "date                  0\n",
       "month                 0\n",
       "day-of-month          0\n",
       "ajmer              1127\n",
       "alwar               765\n",
       "banswara            370\n",
       "baran             12418\n",
       "barmer             5511\n",
       "bharatpur           824\n",
       "bhilwara            367\n",
       "bikaner            2195\n",
       "bundi               399\n",
       "chittorgarh         733\n",
       "churu               429\n",
       "dausa              4480\n",
       "dholpur           10227\n",
       "dungarpur           369\n",
       "hanumangarh       13514\n",
       "jaipur              370\n",
       "jaisalmer           370\n",
       "jalore              370\n",
       "jhunjhunu           370\n",
       "jodhpur             369\n",
       "karoli            14975\n",
       "kota               7306\n",
       "nagaur              370\n",
       "pali                401\n",
       "pratapgarh        18627\n",
       "rajsamand         12814\n",
       "sawai madhopur     5849\n",
       "sikar                35\n",
       "sirohi                4\n",
       "ganganagar          370\n",
       "tonk               1466\n",
       "udaipur               5\n",
       "aw                    1\n",
       "bshw                  1\n",
       "cwq                 368\n",
       "bwhw                369\n",
       "sub humid             1\n",
       "humid                 1\n",
       "very humid          370\n",
       "semi arid             1\n",
       "arid                369\n",
       "daw                   1\n",
       "caw                   3\n",
       "ead                 368\n",
       "dbw                   4\n",
       "dtype: int64"
      ]
     },
     "execution_count": 29,
     "metadata": {},
     "output_type": "execute_result"
    }
   ],
   "source": [
    "rain.isnull().sum()"
=======
   "metadata": {
    "collapsed": "true"
   },
   "source": [
    "### MEAN AND MEDIAN"
>>>>>>> 00fec5a77e4493b563dbfea0ea02270f3c8f6b8f
   ]
  },
  {
   "cell_type": "code",
<<<<<<< HEAD
   "execution_count": 30,
=======
   "execution_count": 19,
>>>>>>> 00fec5a77e4493b563dbfea0ea02270f3c8f6b8f
   "metadata": {},
   "outputs": [
    {
     "data": {
      "text/html": [
       "<div>\n",
       "<style scoped>\n",
       "    .dataframe tbody tr th:only-of-type {\n",
       "        vertical-align: middle;\n",
       "    }\n",
       "\n",
       "    .dataframe tbody tr th {\n",
       "        vertical-align: top;\n",
       "    }\n",
       "\n",
       "    .dataframe thead th {\n",
       "        text-align: right;\n",
       "    }\n",
       "</style>\n",
       "<table border=\"1\" class=\"dataframe\">\n",
       "  <thead>\n",
       "    <tr style=\"text-align: right;\">\n",
       "      <th></th>\n",
       "      <th>year</th>\n",
       "      <th>day-number</th>\n",
       "      <th>date</th>\n",
       "      <th>month</th>\n",
       "      <th>day-of-month</th>\n",
       "      <th>ajmer</th>\n",
       "      <th>alwar</th>\n",
       "      <th>banswara</th>\n",
       "      <th>baran</th>\n",
       "      <th>barmer</th>\n",
       "      <th>...</th>\n",
       "      <th>bwhw</th>\n",
       "      <th>sub humid</th>\n",
       "      <th>humid</th>\n",
       "      <th>very humid</th>\n",
       "      <th>semi arid</th>\n",
       "      <th>arid</th>\n",
       "      <th>daw</th>\n",
       "      <th>caw</th>\n",
       "      <th>ead</th>\n",
       "      <th>dbw</th>\n",
       "    </tr>\n",
       "    <tr>\n",
       "      <th>date</th>\n",
       "      <th></th>\n",
       "      <th></th>\n",
       "      <th></th>\n",
       "      <th></th>\n",
       "      <th></th>\n",
       "      <th></th>\n",
       "      <th></th>\n",
       "      <th></th>\n",
       "      <th></th>\n",
       "      <th></th>\n",
       "      <th></th>\n",
       "      <th></th>\n",
       "      <th></th>\n",
       "      <th></th>\n",
       "      <th></th>\n",
       "      <th></th>\n",
       "      <th></th>\n",
       "      <th></th>\n",
       "      <th></th>\n",
       "      <th></th>\n",
       "      <th></th>\n",
       "    </tr>\n",
       "  </thead>\n",
       "  <tbody>\n",
       "    <tr>\n",
       "      <td>1957-01-01</td>\n",
       "      <td>1957</td>\n",
       "      <td>1</td>\n",
       "      <td>1957-01-01</td>\n",
       "      <td>1</td>\n",
       "      <td>1</td>\n",
       "      <td>0.0</td>\n",
       "      <td>0.0</td>\n",
       "      <td>0.0</td>\n",
       "      <td>NaN</td>\n",
       "      <td>0.0</td>\n",
       "      <td>...</td>\n",
       "      <td>0.0</td>\n",
       "      <td>0.0</td>\n",
       "      <td>0.0</td>\n",
       "      <td>0.0</td>\n",
       "      <td>0.0</td>\n",
       "      <td>0.0</td>\n",
       "      <td>0.0</td>\n",
       "      <td>0.0</td>\n",
       "      <td>0.0</td>\n",
       "      <td>0.0</td>\n",
       "    </tr>\n",
       "    <tr>\n",
       "      <td>1957-01-02</td>\n",
       "      <td>1957</td>\n",
       "      <td>2</td>\n",
       "      <td>1957-01-02</td>\n",
       "      <td>1</td>\n",
       "      <td>2</td>\n",
       "      <td>0.0</td>\n",
       "      <td>0.0</td>\n",
       "      <td>0.0</td>\n",
       "      <td>NaN</td>\n",
       "      <td>0.0</td>\n",
       "      <td>...</td>\n",
       "      <td>0.0</td>\n",
       "      <td>0.0</td>\n",
       "      <td>0.0</td>\n",
       "      <td>0.0</td>\n",
       "      <td>0.0</td>\n",
       "      <td>0.0</td>\n",
       "      <td>0.0</td>\n",
       "      <td>0.0</td>\n",
       "      <td>0.0</td>\n",
       "      <td>0.0</td>\n",
       "    </tr>\n",
       "    <tr>\n",
       "      <td>1957-01-03</td>\n",
       "      <td>1957</td>\n",
       "      <td>3</td>\n",
       "      <td>1957-01-03</td>\n",
       "      <td>1</td>\n",
       "      <td>3</td>\n",
       "      <td>0.0</td>\n",
       "      <td>0.0</td>\n",
       "      <td>0.0</td>\n",
       "      <td>NaN</td>\n",
       "      <td>0.0</td>\n",
       "      <td>...</td>\n",
       "      <td>0.0</td>\n",
       "      <td>0.0</td>\n",
       "      <td>0.0</td>\n",
       "      <td>0.0</td>\n",
       "      <td>0.0</td>\n",
       "      <td>0.0</td>\n",
       "      <td>0.0</td>\n",
       "      <td>0.0</td>\n",
       "      <td>0.0</td>\n",
       "      <td>0.0</td>\n",
       "    </tr>\n",
       "    <tr>\n",
       "      <td>1957-01-04</td>\n",
       "      <td>1957</td>\n",
       "      <td>4</td>\n",
       "      <td>1957-01-04</td>\n",
       "      <td>1</td>\n",
       "      <td>4</td>\n",
       "      <td>0.0</td>\n",
       "      <td>0.0</td>\n",
       "      <td>0.0</td>\n",
       "      <td>NaN</td>\n",
       "      <td>0.0</td>\n",
       "      <td>...</td>\n",
       "      <td>0.0</td>\n",
       "      <td>0.0</td>\n",
       "      <td>0.0</td>\n",
       "      <td>0.0</td>\n",
       "      <td>0.0</td>\n",
       "      <td>0.0</td>\n",
       "      <td>0.0</td>\n",
       "      <td>0.0</td>\n",
       "      <td>0.0</td>\n",
       "      <td>0.0</td>\n",
       "    </tr>\n",
       "    <tr>\n",
       "      <td>1957-01-05</td>\n",
       "      <td>1957</td>\n",
       "      <td>5</td>\n",
       "      <td>1957-01-05</td>\n",
       "      <td>1</td>\n",
       "      <td>5</td>\n",
       "      <td>0.0</td>\n",
       "      <td>0.0</td>\n",
       "      <td>0.0</td>\n",
       "      <td>NaN</td>\n",
       "      <td>0.0</td>\n",
       "      <td>...</td>\n",
<<<<<<< HEAD
       "      <td>0.0</td>\n",
       "      <td>0.0</td>\n",
       "      <td>0.0</td>\n",
       "      <td>0.0</td>\n",
       "      <td>0.0</td>\n",
       "      <td>0.0</td>\n",
       "      <td>0.0</td>\n",
       "      <td>0.0</td>\n",
       "      <td>0.0</td>\n",
       "      <td>0.0</td>\n",
=======
       "      <td>0.00</td>\n",
       "      <td>0.47</td>\n",
       "      <td>0.00</td>\n",
       "      <td>0.00</td>\n",
       "      <td>0.00</td>\n",
       "      <td>0.00</td>\n",
       "      <td>0.19</td>\n",
       "      <td>0.00</td>\n",
       "      <td>0.00</td>\n",
       "      <td>0.00</td>\n",
       "    </tr>\n",
       "  </tbody>\n",
       "</table>\n",
       "<p>7336 rows × 50 columns</p>\n",
       "</div>"
      ],
      "text/plain": [
       "       year  day-number        date  month  day-of-month  ajmer  alwar  \\\n",
       "149    1957         150  1957-05-30      5            30   0.00   0.00   \n",
       "150    1957         151  1957-05-31      5            31   0.00   0.00   \n",
       "151    1957         152  1957-06-01      6             1   0.45   0.00   \n",
       "152    1957         153  1957-06-02      6             2   8.79   4.41   \n",
       "153    1957         154  1957-06-03      6             3   3.22   6.68   \n",
       "...     ...         ...         ...    ...           ...    ...    ...   \n",
       "20363  2012         276  2012-10-02     10             2   0.00   0.00   \n",
       "20364  2012         277  2012-10-03     10             3   0.00   0.00   \n",
       "20365  2012         278  2012-10-04     10             4   0.00   0.00   \n",
       "20366  2012         279  2012-10-05     10             5   0.00   0.00   \n",
       "20367  2012         280  2012-10-06     10             6   0.00   0.00   \n",
       "\n",
       "       banswara  baran  barmer  ...  bwhw  sub humid  humid  very humid  \\\n",
       "149        0.00    0.0     0.0  ...  0.00       0.00   0.00        0.00   \n",
       "150        0.00    0.0     0.0  ...  0.00       0.00   0.00        0.00   \n",
       "151        0.00    0.0     0.0  ...  0.76       1.04   0.11        0.00   \n",
       "152        0.00    0.0     0.0  ...  4.41       7.36   2.06        0.00   \n",
       "153       13.52    0.0     0.0  ...  1.02       6.15   5.26       10.91   \n",
       "...         ...    ...     ...  ...   ...        ...    ...         ...   \n",
       "20363      0.00    0.0     0.0  ...  0.00       0.00   0.00        0.00   \n",
       "20364      0.00    0.0     0.0  ...  0.00       0.00   0.00        0.00   \n",
       "20365      0.00    0.0     0.0  ...  0.00       0.00   0.00        0.00   \n",
       "20366      0.00    0.0     0.0  ...  0.00       0.00   0.00        0.00   \n",
       "20367      0.00    0.0     0.0  ...  0.00       0.47   0.00        0.00   \n",
       "\n",
       "       semi arid  arid   daw    caw   ead   dbw  \n",
       "149         0.00  0.00  0.00   0.00  0.00  0.00  \n",
       "150         0.00  0.00  0.00   0.00  0.00  0.00  \n",
       "151         0.93  0.00  0.72   0.00  0.00  0.62  \n",
       "152         6.37  1.30  5.13   0.62  0.00  8.22  \n",
       "153         1.66  1.89  4.59  10.02  3.05  0.58  \n",
       "...          ...   ...   ...    ...   ...   ...  \n",
       "20363       0.00  0.00  0.00   0.00  0.00  0.00  \n",
       "20364       0.00  0.00  0.00   0.00  0.00  0.00  \n",
       "20365       0.00  0.00  0.00   0.00  0.00  0.00  \n",
       "20366       0.00  0.00  0.00   0.00  0.00  0.00  \n",
       "20367       0.00  0.00  0.19   0.00  0.00  0.00  \n",
       "\n",
       "[7336 rows x 50 columns]"
      ]
     },
     "execution_count": 19,
     "metadata": {},
     "output_type": "execute_result"
    }
   ],
   "source": [
    "rain.fillna(0)\n",
    "rain_monsoon.fillna(0)"
   ]
  },
  {
   "cell_type": "code",
   "execution_count": 21,
   "metadata": {
    "ExecuteTime": {
     "end_time": "2020-03-30T08:31:01.801393Z",
     "start_time": "2020-03-30T08:31:01.744378Z"
    }
   },
   "outputs": [],
   "source": [
    "mean_monthly_year = rain.groupby(['year', 'month'], as_index=False).mean()\n",
    "median_monthly_year = rain.groupby(['year', 'month'], as_index=False).median()"
   ]
  },
  {
   "cell_type": "code",
   "execution_count": 22,
   "metadata": {
    "ExecuteTime": {
     "end_time": "2020-03-30T08:50:53.447622Z",
     "start_time": "2020-03-30T08:50:53.358785Z"
    }
   },
   "outputs": [],
   "source": [
    "mean_yearly = rain.groupby(['year'], as_index=False).mean()\n",
    "median_yearly = rain.groupby(['year'], as_index=False).median()"
   ]
  },
  {
   "cell_type": "code",
   "execution_count": 23,
   "metadata": {
    "ExecuteTime": {
     "end_time": "2020-03-30T08:51:40.490120Z",
     "start_time": "2020-03-30T08:51:40.402838Z"
    }
   },
   "outputs": [],
   "source": [
    "mean_daily = rain.groupby(['day-number'], as_index=False).mean()\n",
    "median_daily = rain.groupby(['day-number'], as_index=False).median()"
   ]
  },
  {
   "cell_type": "code",
   "execution_count": 24,
   "metadata": {
    "ExecuteTime": {
     "end_time": "2020-03-30T08:53:37.803364Z",
     "start_time": "2020-03-30T08:53:37.758250Z"
    }
   },
   "outputs": [],
   "source": [
    "mean_daily_monsoon = rain_monsoon.groupby(['day-number'], as_index=False).mean()\n",
    "median_daily_monsoon = rain_monsoon.groupby(['day-number'], as_index=False).median()"
   ]
  },
  {
   "cell_type": "code",
   "execution_count": 25,
   "metadata": {
    "ExecuteTime": {
     "end_time": "2020-03-30T09:11:32.910267Z",
     "start_time": "2020-03-30T09:11:30.791513Z"
    }
   },
   "outputs": [],
   "source": [
    "dict_rain_regions = {}\n",
    "dict_rain_monsoon_regions = {}\n",
    "\n",
    "dict_rain_regions_yearly = {}\n",
    "dict_rain_regions_monthly = {}\n",
    "dict_rain_regions_year_monthly = {}\n",
    "\n",
    "dict_rain_monsoon_regions_yearly = {}\n",
    "dict_rain_monsoon_regions_monthly = {}\n",
    "dict_rain_monsoon_regions_year_monthly = {}\n",
    "\n",
    "for i in regions:\n",
    "    dict_rain_regions[i] = rain[['year', 'day-number', 'date', 'month',\n",
    "                                 'day-of-month', i]].dropna(how='any', axis=0).reset_index(drop=True)\n",
    "\n",
    "    dict_rain_monsoon_regions[i] = rain_monsoon[['year', 'day-number',\n",
    "                                                 'date', 'month', 'day-of-month', i]].dropna(how='any', axis=0).reset_index(drop=True)\n",
    "\n",
    "    dict_rain_regions_yearly[i] = dict_rain_regions[i].groupby(\n",
    "        'year', as_index=False)[i].sum()\n",
    "    dict_rain_regions_monthly[i] = dict_rain_regions[i].groupby(\n",
    "        'month', as_index=False)[i].sum()\n",
    "    dict_rain_regions_year_monthly[i] = dict_rain_regions[i].groupby(\n",
    "        ['year', 'month'], as_index=False)[i].sum()\n",
    "    dict_rain_regions_year_monthly[i]['year'] = dict_rain_regions_year_monthly[i]['year'].astype(\n",
    "        str)\n",
    "    dict_rain_regions_year_monthly[i]['month'] = dict_rain_regions_year_monthly[i]['month'].astype(\n",
    "        str)\n",
    "    dict_rain_regions_year_monthly[i]['year'+'-'+'month'] = dict_rain_regions_year_monthly[i]['year'] + \\\n",
    "        '-'+dict_rain_regions_year_monthly[i]['month']\n",
    "\n",
    "    dict_rain_monsoon_regions_yearly[i] = dict_rain_monsoon_regions[i].groupby(\n",
    "        'year', as_index=False)[i].sum()\n",
    "    dict_rain_monsoon_regions_monthly[i] = dict_rain_monsoon_regions[i].groupby(\n",
    "        'month', as_index=False)[i].sum()\n",
    "    dict_rain_monsoon_regions_year_monthly[i] = dict_rain_monsoon_regions[i].groupby(\n",
    "        ['year', 'month'], as_index=False)[i].sum()\n",
    "    dict_rain_monsoon_regions_year_monthly[i]['year'] = dict_rain_monsoon_regions_year_monthly[i]['year'].astype(\n",
    "        str)\n",
    "    dict_rain_monsoon_regions_year_monthly[i]['month'] = dict_rain_monsoon_regions_year_monthly[i]['month'].astype(\n",
    "        str)\n",
    "    dict_rain_monsoon_regions_year_monthly[i]['year'+'-'+'month'] = dict_rain_monsoon_regions_year_monthly[i]['year'] + \\\n",
    "        '-'+dict_rain_monsoon_regions_year_monthly[i]['month']"
   ]
  },
  {
   "cell_type": "markdown",
   "metadata": {},
   "source": [
    "### ARIMA MODELLING"
   ]
  },
  {
   "cell_type": "code",
   "execution_count": 26,
   "metadata": {},
   "outputs": [
    {
     "data": {
      "text/html": [
       "<div>\n",
       "<style scoped>\n",
       "    .dataframe tbody tr th:only-of-type {\n",
       "        vertical-align: middle;\n",
       "    }\n",
       "\n",
       "    .dataframe tbody tr th {\n",
       "        vertical-align: top;\n",
       "    }\n",
       "\n",
       "    .dataframe thead th {\n",
       "        text-align: right;\n",
       "    }\n",
       "</style>\n",
       "<table border=\"1\" class=\"dataframe\">\n",
       "  <thead>\n",
       "    <tr style=\"text-align: right;\">\n",
       "      <th></th>\n",
       "      <th>year</th>\n",
       "      <th>day-number</th>\n",
       "      <th>date</th>\n",
       "      <th>month</th>\n",
       "      <th>day-of-month</th>\n",
       "      <th>ajmer</th>\n",
       "      <th>alwar</th>\n",
       "      <th>banswara</th>\n",
       "      <th>baran</th>\n",
       "      <th>barmer</th>\n",
       "      <th>...</th>\n",
       "      <th>bwhw</th>\n",
       "      <th>sub humid</th>\n",
       "      <th>humid</th>\n",
       "      <th>very humid</th>\n",
       "      <th>semi arid</th>\n",
       "      <th>arid</th>\n",
       "      <th>daw</th>\n",
       "      <th>caw</th>\n",
       "      <th>ead</th>\n",
       "      <th>dbw</th>\n",
>>>>>>> 00fec5a77e4493b563dbfea0ea02270f3c8f6b8f
       "    </tr>\n",
       "    <tr>\n",
       "      <td>...</td>\n",
       "      <td>...</td>\n",
       "      <td>...</td>\n",
       "      <td>...</td>\n",
       "      <td>...</td>\n",
       "      <td>...</td>\n",
       "      <td>...</td>\n",
       "      <td>...</td>\n",
       "      <td>...</td>\n",
       "      <td>...</td>\n",
       "      <td>...</td>\n",
       "      <td>...</td>\n",
       "      <td>...</td>\n",
       "      <td>...</td>\n",
       "      <td>...</td>\n",
       "      <td>...</td>\n",
       "      <td>...</td>\n",
       "      <td>...</td>\n",
       "      <td>...</td>\n",
       "      <td>...</td>\n",
       "      <td>...</td>\n",
       "      <td>...</td>\n",
       "    </tr>\n",
       "    <tr>\n",
       "      <td>1993-12-27</td>\n",
       "      <td>1993</td>\n",
       "      <td>361</td>\n",
       "      <td>1993-12-27</td>\n",
       "      <td>12</td>\n",
       "      <td>27</td>\n",
       "      <td>0.0</td>\n",
       "      <td>0.0</td>\n",
       "      <td>0.0</td>\n",
       "      <td>0.0</td>\n",
       "      <td>NaN</td>\n",
       "      <td>...</td>\n",
       "      <td>0.0</td>\n",
       "      <td>0.0</td>\n",
       "      <td>0.0</td>\n",
       "      <td>0.0</td>\n",
       "      <td>0.0</td>\n",
       "      <td>0.0</td>\n",
       "      <td>0.0</td>\n",
       "      <td>0.0</td>\n",
       "      <td>0.0</td>\n",
       "      <td>0.0</td>\n",
       "    </tr>\n",
       "    <tr>\n",
       "      <td>1993-12-28</td>\n",
       "      <td>1993</td>\n",
       "      <td>362</td>\n",
       "      <td>1993-12-28</td>\n",
       "      <td>12</td>\n",
       "      <td>28</td>\n",
       "      <td>0.0</td>\n",
       "      <td>0.0</td>\n",
       "      <td>0.0</td>\n",
       "      <td>0.0</td>\n",
       "      <td>NaN</td>\n",
       "      <td>...</td>\n",
       "      <td>0.0</td>\n",
       "      <td>0.0</td>\n",
       "      <td>0.0</td>\n",
       "      <td>0.0</td>\n",
       "      <td>0.0</td>\n",
       "      <td>0.0</td>\n",
       "      <td>0.0</td>\n",
       "      <td>0.0</td>\n",
       "      <td>0.0</td>\n",
       "      <td>0.0</td>\n",
       "    </tr>\n",
       "    <tr>\n",
       "      <td>1993-12-29</td>\n",
       "      <td>1993</td>\n",
       "      <td>363</td>\n",
       "      <td>1993-12-29</td>\n",
       "      <td>12</td>\n",
       "      <td>29</td>\n",
       "      <td>0.0</td>\n",
       "      <td>0.0</td>\n",
       "      <td>0.0</td>\n",
       "      <td>0.0</td>\n",
       "      <td>NaN</td>\n",
       "      <td>...</td>\n",
       "      <td>0.0</td>\n",
       "      <td>0.0</td>\n",
       "      <td>0.0</td>\n",
       "      <td>0.0</td>\n",
       "      <td>0.0</td>\n",
       "      <td>0.0</td>\n",
       "      <td>0.0</td>\n",
       "      <td>0.0</td>\n",
       "      <td>0.0</td>\n",
       "      <td>0.0</td>\n",
       "    </tr>\n",
       "    <tr>\n",
       "      <td>1993-12-30</td>\n",
       "      <td>1993</td>\n",
       "      <td>364</td>\n",
       "      <td>1993-12-30</td>\n",
       "      <td>12</td>\n",
       "      <td>30</td>\n",
       "      <td>0.0</td>\n",
       "      <td>0.0</td>\n",
       "      <td>0.0</td>\n",
       "      <td>0.0</td>\n",
       "      <td>NaN</td>\n",
       "      <td>...</td>\n",
       "      <td>0.0</td>\n",
       "      <td>0.0</td>\n",
       "      <td>0.0</td>\n",
       "      <td>0.0</td>\n",
       "      <td>0.0</td>\n",
       "      <td>0.0</td>\n",
       "      <td>0.0</td>\n",
       "      <td>0.0</td>\n",
       "      <td>0.0</td>\n",
       "      <td>0.0</td>\n",
       "    </tr>\n",
       "    <tr>\n",
       "      <td>1993-12-31</td>\n",
       "      <td>1993</td>\n",
       "      <td>365</td>\n",
       "      <td>1993-12-31</td>\n",
       "      <td>12</td>\n",
       "      <td>31</td>\n",
       "      <td>0.0</td>\n",
       "      <td>0.0</td>\n",
       "      <td>0.0</td>\n",
       "      <td>0.0</td>\n",
       "      <td>NaN</td>\n",
       "      <td>...</td>\n",
       "      <td>0.0</td>\n",
       "      <td>0.0</td>\n",
       "      <td>0.0</td>\n",
       "      <td>0.0</td>\n",
       "      <td>0.0</td>\n",
       "      <td>0.0</td>\n",
       "      <td>0.0</td>\n",
       "      <td>0.0</td>\n",
       "      <td>0.0</td>\n",
       "      <td>0.0</td>\n",
       "    </tr>\n",
       "  </tbody>\n",
       "</table>\n",
       "<p>13514 rows × 50 columns</p>\n",
       "</div>"
      ],
      "text/plain": [
       "            year  day-number        date  month  day-of-month  ajmer  alwar  \\\n",
       "date                                                                          \n",
       "1957-01-01  1957           1  1957-01-01      1             1    0.0    0.0   \n",
       "1957-01-02  1957           2  1957-01-02      1             2    0.0    0.0   \n",
       "1957-01-03  1957           3  1957-01-03      1             3    0.0    0.0   \n",
       "1957-01-04  1957           4  1957-01-04      1             4    0.0    0.0   \n",
       "1957-01-05  1957           5  1957-01-05      1             5    0.0    0.0   \n",
       "...          ...         ...         ...    ...           ...    ...    ...   \n",
       "1993-12-27  1993         361  1993-12-27     12            27    0.0    0.0   \n",
       "1993-12-28  1993         362  1993-12-28     12            28    0.0    0.0   \n",
       "1993-12-29  1993         363  1993-12-29     12            29    0.0    0.0   \n",
       "1993-12-30  1993         364  1993-12-30     12            30    0.0    0.0   \n",
       "1993-12-31  1993         365  1993-12-31     12            31    0.0    0.0   \n",
       "\n",
       "            banswara  baran  barmer  ...  bwhw  sub humid  humid  very humid  \\\n",
       "date                                 ...                                       \n",
       "1957-01-01       0.0    NaN     0.0  ...   0.0        0.0    0.0         0.0   \n",
       "1957-01-02       0.0    NaN     0.0  ...   0.0        0.0    0.0         0.0   \n",
       "1957-01-03       0.0    NaN     0.0  ...   0.0        0.0    0.0         0.0   \n",
       "1957-01-04       0.0    NaN     0.0  ...   0.0        0.0    0.0         0.0   \n",
       "1957-01-05       0.0    NaN     0.0  ...   0.0        0.0    0.0         0.0   \n",
       "...              ...    ...     ...  ...   ...        ...    ...         ...   \n",
       "1993-12-27       0.0    0.0     NaN  ...   0.0        0.0    0.0         0.0   \n",
       "1993-12-28       0.0    0.0     NaN  ...   0.0        0.0    0.0         0.0   \n",
       "1993-12-29       0.0    0.0     NaN  ...   0.0        0.0    0.0         0.0   \n",
       "1993-12-30       0.0    0.0     NaN  ...   0.0        0.0    0.0         0.0   \n",
       "1993-12-31       0.0    0.0     NaN  ...   0.0        0.0    0.0         0.0   \n",
       "\n",
       "            semi arid  arid  daw  caw  ead  dbw  \n",
       "date                                             \n",
       "1957-01-01        0.0   0.0  0.0  0.0  0.0  0.0  \n",
       "1957-01-02        0.0   0.0  0.0  0.0  0.0  0.0  \n",
       "1957-01-03        0.0   0.0  0.0  0.0  0.0  0.0  \n",
       "1957-01-04        0.0   0.0  0.0  0.0  0.0  0.0  \n",
       "1957-01-05        0.0   0.0  0.0  0.0  0.0  0.0  \n",
       "...               ...   ...  ...  ...  ...  ...  \n",
       "1993-12-27        0.0   0.0  0.0  0.0  0.0  0.0  \n",
       "1993-12-28        0.0   0.0  0.0  0.0  0.0  0.0  \n",
       "1993-12-29        0.0   0.0  0.0  0.0  0.0  0.0  \n",
       "1993-12-30        0.0   0.0  0.0  0.0  0.0  0.0  \n",
       "1993-12-31        0.0   0.0  0.0  0.0  0.0  0.0  \n",
       "\n",
       "[13514 rows x 50 columns]"
      ]
     },
<<<<<<< HEAD
     "execution_count": 30,
=======
     "execution_count": 26,
>>>>>>> 00fec5a77e4493b563dbfea0ea02270f3c8f6b8f
     "metadata": {},
     "output_type": "execute_result"
    }
   ],
   "source": [
    "rain[rain['hanumangarh'].isnull()]"
   ]
  },
  {
   "cell_type": "code",
<<<<<<< HEAD
   "execution_count": 39,
=======
   "execution_count": 27,
>>>>>>> 00fec5a77e4493b563dbfea0ea02270f3c8f6b8f
   "metadata": {},
   "outputs": [],
   "source": [
    "ajmer=rain.iloc[:,[5]]"
   ]
  },
  {
   "cell_type": "code",
   "execution_count": 40,
   "metadata": {
    "ExecuteTime": {
     "end_time": "2020-03-30T08:31:01.801393Z",
     "start_time": "2020-03-30T08:31:01.744378Z"
    }
   },
   "outputs": [
    {
     "data": {
      "text/html": [
       "<div>\n",
       "<style scoped>\n",
       "    .dataframe tbody tr th:only-of-type {\n",
       "        vertical-align: middle;\n",
       "    }\n",
       "\n",
       "    .dataframe tbody tr th {\n",
       "        vertical-align: top;\n",
       "    }\n",
       "\n",
       "    .dataframe thead th {\n",
       "        text-align: right;\n",
       "    }\n",
       "</style>\n",
       "<table border=\"1\" class=\"dataframe\">\n",
       "  <thead>\n",
       "    <tr style=\"text-align: right;\">\n",
       "      <th></th>\n",
       "      <th>ajmer</th>\n",
       "    </tr>\n",
       "    <tr>\n",
       "      <th>date</th>\n",
       "      <th></th>\n",
       "    </tr>\n",
       "  </thead>\n",
       "  <tbody>\n",
       "    <tr>\n",
       "      <td>1957-01-01</td>\n",
       "      <td>0.0</td>\n",
       "    </tr>\n",
       "    <tr>\n",
       "      <td>1957-01-02</td>\n",
       "      <td>0.0</td>\n",
       "    </tr>\n",
       "    <tr>\n",
       "      <td>1957-01-03</td>\n",
       "      <td>0.0</td>\n",
       "    </tr>\n",
       "    <tr>\n",
       "      <td>1957-01-04</td>\n",
       "      <td>0.0</td>\n",
       "    </tr>\n",
       "    <tr>\n",
       "      <td>1957-01-05</td>\n",
       "      <td>0.0</td>\n",
       "    </tr>\n",
       "    <tr>\n",
       "      <td>...</td>\n",
       "      <td>...</td>\n",
       "    </tr>\n",
       "    <tr>\n",
       "      <td>2012-12-27</td>\n",
       "      <td>0.0</td>\n",
       "    </tr>\n",
       "    <tr>\n",
       "      <td>2012-12-28</td>\n",
       "      <td>0.0</td>\n",
       "    </tr>\n",
       "    <tr>\n",
       "      <td>2012-12-29</td>\n",
       "      <td>0.0</td>\n",
       "    </tr>\n",
       "    <tr>\n",
       "      <td>2012-12-30</td>\n",
       "      <td>0.0</td>\n",
       "    </tr>\n",
       "    <tr>\n",
       "      <td>2012-12-31</td>\n",
       "      <td>0.0</td>\n",
       "    </tr>\n",
       "  </tbody>\n",
       "</table>\n",
       "<p>20454 rows × 1 columns</p>\n",
       "</div>"
      ],
      "text/plain": [
       "            ajmer\n",
       "date             \n",
       "1957-01-01    0.0\n",
       "1957-01-02    0.0\n",
       "1957-01-03    0.0\n",
       "1957-01-04    0.0\n",
       "1957-01-05    0.0\n",
       "...           ...\n",
       "2012-12-27    0.0\n",
       "2012-12-28    0.0\n",
       "2012-12-29    0.0\n",
       "2012-12-30    0.0\n",
       "2012-12-31    0.0\n",
       "\n",
       "[20454 rows x 1 columns]"
      ]
     },
<<<<<<< HEAD
     "execution_count": 40,
=======
     "execution_count": 27,
>>>>>>> 00fec5a77e4493b563dbfea0ea02270f3c8f6b8f
     "metadata": {},
     "output_type": "execute_result"
    }
   ],
   "source": [
    "ajmer"
   ]
  },
  {
   "cell_type": "code",
   "execution_count": 41,
   "metadata": {
    "ExecuteTime": {
     "end_time": "2020-03-30T08:50:53.447622Z",
     "start_time": "2020-03-30T08:50:53.358785Z"
    }
   },
   "outputs": [
    {
     "data": {
      "image/png": "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\n",
      "text/plain": [
       "<Figure size 1080x432 with 1 Axes>"
      ]
     },
     "metadata": {
      "needs_background": "light"
     },
     "output_type": "display_data"
    }
   ],
   "source": [
    "ajmer.plot(figsize=(15, 6))\n",
    "plt.show()"
   ]
  },
  {
   "cell_type": "code",
<<<<<<< HEAD
   "execution_count": 42,
   "metadata": {
    "ExecuteTime": {
     "end_time": "2020-03-30T08:51:40.490120Z",
     "start_time": "2020-03-30T08:51:40.402838Z"
    }
=======
   "execution_count": 30,
   "metadata": {
    "scrolled": true
>>>>>>> 00fec5a77e4493b563dbfea0ea02270f3c8f6b8f
   },
   "outputs": [
    {
     "name": "stdout",
     "output_type": "stream",
     "text": [
      "Examples of parameter combinations for Seasonal ARIMA...\n",
      "SARIMAX: (0, 0, 1) x (0, 0, 1, 12)\n",
      "SARIMAX: (0, 0, 1) x (0, 1, 0, 12)\n",
      "SARIMAX: (0, 1, 0) x (0, 1, 1, 12)\n",
      "SARIMAX: (0, 1, 0) x (1, 0, 0, 12)\n"
     ]
    }
   ],
   "source": [
    "import itertools\n",
    "# Define the p, d and q parameters to take any value between 0 and 2\n",
    "p = d = q = range(0, 2)\n",
    "# Generate all different combinations of p, d and q triplets\n",
    "pdq = list(itertools.product(p, d, q))\n",
    "\n",
    "# Generate all different combinations of seasonal p, d and q triplets\n",
    "seasonal_pdq = [(x[0], x[1], x[2], 12) for x in list(itertools.product(p, d, q))]\n",
    "\n",
    "print('Examples of parameter combinations for Seasonal ARIMA...')\n",
    "print('SARIMAX: {} x {}'.format(pdq[1], seasonal_pdq[1]))\n",
    "print('SARIMAX: {} x {}'.format(pdq[1], seasonal_pdq[2]))\n",
    "print('SARIMAX: {} x {}'.format(pdq[2], seasonal_pdq[3]))\n",
    "print('SARIMAX: {} x {}'.format(pdq[2], seasonal_pdq[4]))"
   ]
  },
  {
   "cell_type": "code",
<<<<<<< HEAD
   "execution_count": 43,
   "metadata": {
    "ExecuteTime": {
     "end_time": "2020-03-30T08:53:37.803364Z",
     "start_time": "2020-03-30T08:53:37.758250Z"
    }
   },
   "outputs": [
    {
     "name": "stdout",
     "output_type": "stream",
     "text": [
      "ARIMA(0, 0, 0)x(0, 0, 0, 12)12 - AIC:122974.30033881054\n",
      "ARIMA(0, 0, 0)x(0, 0, 1, 12)12 - AIC:122585.11097306012\n",
      "ARIMA(0, 0, 0)x(0, 1, 0, 12)12 - AIC:133452.93221269854\n",
      "ARIMA(0, 0, 0)x(0, 1, 1, 12)12 - AIC:122033.83703060061\n",
      "ARIMA(0, 0, 0)x(1, 0, 0, 12)12 - AIC:122517.40843183588\n",
      "ARIMA(0, 0, 0)x(1, 0, 1, 12)12 - AIC:122136.71020919623\n",
      "ARIMA(0, 0, 0)x(1, 1, 0, 12)12 - AIC:127918.18586889366\n",
      "ARIMA(0, 0, 0)x(1, 1, 1, 12)12 - AIC:121841.8707490568\n",
      "ARIMA(0, 0, 1)x(0, 0, 0, 12)12 - AIC:120079.25596809335\n",
      "ARIMA(0, 0, 1)x(0, 0, 1, 12)12 - AIC:119842.90557889955\n",
      "ARIMA(0, 0, 1)x(0, 1, 0, 12)12 - AIC:131433.68951435506\n",
      "ARIMA(0, 0, 1)x(0, 1, 1, 12)12 - AIC:119468.00137850127\n",
      "ARIMA(0, 0, 1)x(1, 0, 0, 12)12 - AIC:119826.34016819968\n",
      "ARIMA(0, 0, 1)x(1, 0, 1, 12)12 - AIC:119615.15505102303\n",
      "ARIMA(0, 0, 1)x(1, 1, 0, 12)12 - AIC:125925.94370022425\n",
      "ARIMA(0, 0, 1)x(1, 1, 1, 12)12 - AIC:119366.419477621\n",
      "ARIMA(0, 1, 0)x(0, 0, 0, 12)12 - AIC:126265.44125980473\n",
      "ARIMA(0, 1, 0)x(0, 0, 1, 12)12 - AIC:126183.02080106767\n",
      "ARIMA(0, 1, 0)x(0, 1, 0, 12)12 - AIC:139282.62035801873\n",
      "ARIMA(0, 1, 0)x(0, 1, 1, 12)12 - AIC:126197.2659040254\n",
      "ARIMA(0, 1, 0)x(1, 0, 0, 12)12 - AIC:126188.41466151431\n",
      "ARIMA(0, 1, 0)x(1, 0, 1, 12)12 - AIC:126183.83128562942\n",
      "ARIMA(0, 1, 0)x(1, 1, 0, 12)12 - AIC:133793.4911326365\n",
      "ARIMA(0, 1, 0)x(1, 1, 1, 12)12 - AIC:126192.95590806563\n",
      "ARIMA(0, 1, 1)x(0, 0, 0, 12)12 - AIC:119808.20029916965\n",
      "ARIMA(0, 1, 1)x(0, 0, 1, 12)12 - AIC:119720.04357938922\n",
      "ARIMA(0, 1, 1)x(0, 1, 0, 12)12 - AIC:133648.23199496104\n",
      "ARIMA(0, 1, 1)x(0, 1, 1, 12)12 - AIC:119750.7583414204\n",
      "ARIMA(0, 1, 1)x(1, 0, 0, 12)12 - AIC:119730.72481506765\n",
      "ARIMA(0, 1, 1)x(1, 0, 1, 12)12 - AIC:119721.68628523996\n",
      "ARIMA(0, 1, 1)x(1, 1, 0, 12)12 - AIC:127699.69699710178\n",
      "ARIMA(0, 1, 1)x(1, 1, 1, 12)12 - AIC:119737.02851136387\n",
      "ARIMA(1, 0, 0)x(0, 0, 0, 12)12 - AIC:119464.28870513142\n",
      "ARIMA(1, 0, 0)x(0, 0, 1, 12)12 - AIC:119303.2044173731\n",
      "ARIMA(1, 0, 0)x(0, 1, 0, 12)12 - AIC:131302.18689885558\n",
      "ARIMA(1, 0, 0)x(0, 1, 1, 12)12 - AIC:119023.74668982753\n",
      "ARIMA(1, 0, 0)x(1, 0, 0, 12)12 - AIC:119292.44711980161\n",
      "ARIMA(1, 0, 0)x(1, 0, 1, 12)12 - AIC:119180.50746345166\n",
      "ARIMA(1, 0, 0)x(1, 1, 0, 12)12 - AIC:125787.34575878654\n",
      "ARIMA(1, 0, 0)x(1, 1, 1, 12)12 - AIC:118966.43883298161\n",
      "ARIMA(1, 0, 1)x(0, 0, 0, 12)12 - AIC:119031.60650148826\n",
      "ARIMA(1, 0, 1)x(0, 0, 1, 12)12 - AIC:118934.45247265502\n",
      "ARIMA(1, 0, 1)x(0, 1, 0, 12)12 - AIC:131281.7475367582\n",
      "ARIMA(1, 0, 1)x(0, 1, 1, 12)12 - AIC:118758.29954464323\n",
      "ARIMA(1, 0, 1)x(1, 0, 0, 12)12 - AIC:118937.75038815144\n",
      "ARIMA(1, 0, 1)x(1, 0, 1, 12)12 - AIC:118898.62073862011\n",
      "ARIMA(1, 0, 1)x(1, 1, 0, 12)12 - AIC:125772.62868477714\n",
      "ARIMA(1, 0, 1)x(1, 1, 1, 12)12 - AIC:118735.93209545585\n",
      "ARIMA(1, 1, 0)x(0, 0, 0, 12)12 - AIC:123562.8684477316\n",
      "ARIMA(1, 1, 0)x(0, 0, 1, 12)12 - AIC:123486.16035099656\n",
      "ARIMA(1, 1, 0)x(0, 1, 0, 12)12 - AIC:136742.86312284213\n",
      "ARIMA(1, 1, 0)x(0, 1, 1, 12)12 - AIC:123501.39769846438\n",
      "ARIMA(1, 1, 0)x(1, 0, 0, 12)12 - AIC:123486.1543678095\n",
      "ARIMA(1, 1, 0)x(1, 0, 1, 12)12 - AIC:123488.1557199489\n",
      "ARIMA(1, 1, 0)x(1, 1, 0, 12)12 - AIC:131245.35863232194\n",
      "ARIMA(1, 1, 0)x(1, 1, 1, 12)12 - AIC:123500.03131785463\n",
      "ARIMA(1, 1, 1)x(0, 0, 0, 12)12 - AIC:118639.5124422914\n",
      "ARIMA(1, 1, 1)x(0, 0, 1, 12)12 - AIC:118569.73382021533\n",
      "ARIMA(1, 1, 1)x(0, 1, 0, 12)12 - AIC:131301.15536455082\n",
      "ARIMA(1, 1, 1)x(0, 1, 1, 12)12 - AIC:118583.39463730704\n",
      "ARIMA(1, 1, 1)x(1, 0, 0, 12)12 - AIC:118574.87918423257\n",
      "ARIMA(1, 1, 1)x(1, 0, 1, 12)12 - AIC:118571.75608692034\n",
      "ARIMA(1, 1, 1)x(1, 1, 0, 12)12 - AIC:125792.67835086877\n",
      "ARIMA(1, 1, 1)x(1, 1, 1, 12)12 - AIC:118585.38055092198\n"
     ]
    }
   ],
=======
   "execution_count": 31,
   "metadata": {},
   "outputs": [],
>>>>>>> 00fec5a77e4493b563dbfea0ea02270f3c8f6b8f
   "source": [
    "warnings.filterwarnings(\"ignore\") # specify to ignore warning messages\n",
    "\n",
    "for param in pdq:\n",
    "    for param_seasonal in seasonal_pdq:\n",
    "        try:\n",
    "            mod = sm.tsa.statespace.SARIMAX(ajmer,\n",
    "                                            order=param,\n",
    "                                            seasonal_order=param_seasonal,\n",
    "                                            enforce_stationarity=False,\n",
    "                                            enforce_invertibility=False)\n",
    "\n",
    "            results = mod.fit()\n",
    "\n",
    "            print('ARIMA{}x{}12 - AIC:{}'.format(param, param_seasonal, results.aic))\n",
    "        except:\n",
    "            continue"
   ]
  },
  {
   "cell_type": "code",
<<<<<<< HEAD
   "execution_count": 44,
   "metadata": {
    "ExecuteTime": {
     "end_time": "2020-03-30T09:11:32.910267Z",
     "start_time": "2020-03-30T09:11:30.791513Z"
    }
   },
   "outputs": [
    {
     "name": "stdout",
     "output_type": "stream",
     "text": [
      "==============================================================================\n",
      "                 coef    std err          z      P>|z|      [0.025      0.975]\n",
      "------------------------------------------------------------------------------\n",
      "ar.L1          0.2826      0.001    197.105      0.000       0.280       0.285\n",
      "ma.L1         -1.0537      0.001  -1131.139      0.000      -1.056      -1.052\n",
      "ar.S.L12       0.0003      0.003      0.094      0.925      -0.006       0.007\n",
      "ma.S.L12      -1.0000      0.173     -5.782      0.000      -1.339      -0.661\n",
      "sigma2        24.4500      4.236      5.772      0.000      16.148      32.752\n",
      "==============================================================================\n"
=======
   "execution_count": 32,
   "metadata": {},
   "outputs": [
    {
     "ename": "NameError",
     "evalue": "name 'y' is not defined",
     "output_type": "error",
     "traceback": [
      "\u001b[0;31m---------------------------------------------------------------------------\u001b[0m",
      "\u001b[0;31mNameError\u001b[0m                                 Traceback (most recent call last)",
      "\u001b[0;32m<ipython-input-32-fbdee454670a>\u001b[0m in \u001b[0;36m<module>\u001b[0;34m\u001b[0m\n\u001b[0;32m----> 1\u001b[0;31m mod = sm.tsa.statespace.SARIMAX(y,\n\u001b[0m\u001b[1;32m      2\u001b[0m                                 \u001b[0morder\u001b[0m\u001b[0;34m=\u001b[0m\u001b[0;34m(\u001b[0m\u001b[0;36m1\u001b[0m\u001b[0;34m,\u001b[0m \u001b[0;36m1\u001b[0m\u001b[0;34m,\u001b[0m \u001b[0;36m1\u001b[0m\u001b[0;34m)\u001b[0m\u001b[0;34m,\u001b[0m\u001b[0;34m\u001b[0m\u001b[0;34m\u001b[0m\u001b[0m\n\u001b[1;32m      3\u001b[0m                                 \u001b[0mseasonal_order\u001b[0m\u001b[0;34m=\u001b[0m\u001b[0;34m(\u001b[0m\u001b[0;36m1\u001b[0m\u001b[0;34m,\u001b[0m \u001b[0;36m1\u001b[0m\u001b[0;34m,\u001b[0m \u001b[0;36m1\u001b[0m\u001b[0;34m,\u001b[0m \u001b[0;36m12\u001b[0m\u001b[0;34m)\u001b[0m\u001b[0;34m,\u001b[0m\u001b[0;34m\u001b[0m\u001b[0;34m\u001b[0m\u001b[0m\n\u001b[1;32m      4\u001b[0m                                 \u001b[0menforce_stationarity\u001b[0m\u001b[0;34m=\u001b[0m\u001b[0;32mFalse\u001b[0m\u001b[0;34m,\u001b[0m\u001b[0;34m\u001b[0m\u001b[0;34m\u001b[0m\u001b[0m\n\u001b[1;32m      5\u001b[0m                                 enforce_invertibility=False)\n",
      "\u001b[0;31mNameError\u001b[0m: name 'y' is not defined"
>>>>>>> 00fec5a77e4493b563dbfea0ea02270f3c8f6b8f
     ]
    }
   ],
   "source": [
    "mod = sm.tsa.statespace.SARIMAX(ajmer,\n",
    "                                order=(1, 1, 1),\n",
    "                                seasonal_order=(1, 1, 1, 12),\n",
    "                                enforce_stationarity=False,\n",
    "                                enforce_invertibility=False)\n",
    "\n",
    "results = mod.fit()\n",
    "\n",
    "print(results.summary().tables[1])"
   ]
  },
  {
   "cell_type": "code",
<<<<<<< HEAD
   "execution_count": 45,
   "metadata": {},
   "outputs": [
    {
     "data": {
      "image/png": "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\n",
      "text/plain": [
       "<Figure size 1080x864 with 4 Axes>"
      ]
     },
     "metadata": {
      "needs_background": "light"
     },
     "output_type": "display_data"
=======
   "execution_count": 33,
   "metadata": {},
   "outputs": [
    {
     "ename": "NameError",
     "evalue": "name 'results' is not defined",
     "output_type": "error",
     "traceback": [
      "\u001b[0;31m---------------------------------------------------------------------------\u001b[0m",
      "\u001b[0;31mNameError\u001b[0m                                 Traceback (most recent call last)",
      "\u001b[0;32m<ipython-input-33-72c57cdf4eff>\u001b[0m in \u001b[0;36m<module>\u001b[0;34m\u001b[0m\n\u001b[0;32m----> 1\u001b[0;31m \u001b[0mresults\u001b[0m\u001b[0;34m.\u001b[0m\u001b[0mplot_diagnostics\u001b[0m\u001b[0;34m(\u001b[0m\u001b[0mfigsize\u001b[0m\u001b[0;34m=\u001b[0m\u001b[0;34m(\u001b[0m\u001b[0;36m15\u001b[0m\u001b[0;34m,\u001b[0m \u001b[0;36m12\u001b[0m\u001b[0;34m)\u001b[0m\u001b[0;34m)\u001b[0m\u001b[0;34m\u001b[0m\u001b[0;34m\u001b[0m\u001b[0m\n\u001b[0m\u001b[1;32m      2\u001b[0m \u001b[0mplt\u001b[0m\u001b[0;34m.\u001b[0m\u001b[0mshow\u001b[0m\u001b[0;34m(\u001b[0m\u001b[0;34m)\u001b[0m\u001b[0;34m\u001b[0m\u001b[0;34m\u001b[0m\u001b[0m\n",
      "\u001b[0;31mNameError\u001b[0m: name 'results' is not defined"
     ]
>>>>>>> 00fec5a77e4493b563dbfea0ea02270f3c8f6b8f
    }
   ],
   "source": [
    "results.plot_diagnostics(figsize=(15, 12))\n",
    "plt.show()"
   ]
  },
  {
   "cell_type": "code",
   "execution_count": null,
   "metadata": {},
   "outputs": [],
   "source": []
  },
  {
   "cell_type": "code",
   "execution_count": null,
   "metadata": {},
   "outputs": [],
   "source": []
  },
  {
   "cell_type": "code",
   "execution_count": null,
   "metadata": {},
   "outputs": [],
   "source": []
  },
  {
   "cell_type": "code",
   "execution_count": null,
   "metadata": {},
   "outputs": [],
   "source": []
  },
  {
   "cell_type": "code",
   "execution_count": null,
   "metadata": {},
   "outputs": [],
   "source": []
  },
  {
   "cell_type": "code",
   "execution_count": null,
   "metadata": {},
   "outputs": [],
   "source": []
  },
  {
   "cell_type": "code",
   "execution_count": null,
   "metadata": {},
   "outputs": [],
   "source": []
  },
  {
   "cell_type": "code",
   "execution_count": null,
   "metadata": {},
   "outputs": [],
   "source": []
  },
  {
   "cell_type": "code",
   "execution_count": null,
   "metadata": {
    "ExecuteTime": {
     "end_time": "2020-03-30T09:17:13.804036Z",
     "start_time": "2020-03-30T09:13:28.151539Z"
    }
   },
   "outputs": [],
   "source": []
  },
  {
   "cell_type": "code",
   "execution_count": null,
   "metadata": {},
   "outputs": [],
   "source": []
  }
 ],
 "metadata": {
  "kernelspec": {
   "display_name": "Python 3",
   "language": "python",
   "name": "python3"
  },
  "language_info": {
   "codemirror_mode": {
    "name": "ipython",
    "version": 3
   },
   "file_extension": ".py",
   "mimetype": "text/x-python",
   "name": "python",
   "nbconvert_exporter": "python",
   "pygments_lexer": "ipython3",
   "version": "3.7.4"
  },
  "varInspector": {
   "cols": {
    "lenName": 16,
    "lenType": 16,
    "lenVar": 40
   },
   "kernels_config": {
    "python": {
     "delete_cmd_postfix": "",
     "delete_cmd_prefix": "del ",
     "library": "var_list.py",
     "varRefreshCmd": "print(var_dic_list())"
    },
    "r": {
     "delete_cmd_postfix": ") ",
     "delete_cmd_prefix": "rm(",
     "library": "var_list.r",
     "varRefreshCmd": "cat(var_dic_list()) "
    }
   },
   "types_to_exclude": [
    "module",
    "function",
    "builtin_function_or_method",
    "instance",
    "_Feature"
   ],
   "window_display": false
  }
 },
 "nbformat": 4,
 "nbformat_minor": 4
}
